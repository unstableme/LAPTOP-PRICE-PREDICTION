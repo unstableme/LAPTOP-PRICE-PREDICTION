{
 "cells": [
  {
   "cell_type": "markdown",
   "id": "8e2cc6bd",
   "metadata": {},
   "source": [
    "## Laptop details dataset\n"
   ]
  },
  {
   "cell_type": "code",
   "execution_count": 266,
   "id": "aa178599",
   "metadata": {},
   "outputs": [],
   "source": [
    "  ### use this code to see only code and not output: \n",
    "# %%HTML\n",
    "# <style>\n",
    "#     .output {\n",
    "#         display: none;\n",
    "#     }\n",
    "# </style>"
   ]
  },
  {
   "cell_type": "code",
   "execution_count": 267,
   "id": "fb33cbd1",
   "metadata": {},
   "outputs": [],
   "source": [
    "import pandas as pd\n",
    "import numpy as np\n",
    "import matplotlib.pyplot as plt\n",
    "%matplotlib inline\n",
    "import seaborn as sns\n",
    "\n"
   ]
  },
  {
   "cell_type": "code",
   "execution_count": 268,
   "id": "25594340",
   "metadata": {},
   "outputs": [],
   "source": [
    "laptop_data = pd.read_csv(\"laptop_detail.csv\")"
   ]
  },
  {
   "cell_type": "code",
   "execution_count": 269,
   "id": "fad31533",
   "metadata": {},
   "outputs": [
    {
     "name": "stdout",
     "output_type": "stream",
     "text": [
      "<class 'pandas.core.frame.DataFrame'>\n",
      "RangeIndex: 238 entries, 0 to 237\n",
      "Data columns (total 13 columns):\n",
      " #   Column          Non-Null Count  Dtype  \n",
      "---  ------          --------------  -----  \n",
      " 0   Unnamed: 0      238 non-null    int64  \n",
      " 1   Manufacturer    238 non-null    object \n",
      " 2   Category        238 non-null    int64  \n",
      " 3   Screen          238 non-null    object \n",
      " 4   GPU             238 non-null    int64  \n",
      " 5   OS              238 non-null    int64  \n",
      " 6   CPU_core        238 non-null    int64  \n",
      " 7   Screen_Size_cm  234 non-null    float64\n",
      " 8   CPU_frequency   238 non-null    float64\n",
      " 9   RAM_GB          238 non-null    int64  \n",
      " 10  Storage_GB_SSD  238 non-null    int64  \n",
      " 11  Weight_kg       233 non-null    float64\n",
      " 12  Price           238 non-null    int64  \n",
      "dtypes: float64(3), int64(8), object(2)\n",
      "memory usage: 24.3+ KB\n"
     ]
    },
    {
     "data": {
      "text/html": [
       "<div>\n",
       "<style scoped>\n",
       "    .dataframe tbody tr th:only-of-type {\n",
       "        vertical-align: middle;\n",
       "    }\n",
       "\n",
       "    .dataframe tbody tr th {\n",
       "        vertical-align: top;\n",
       "    }\n",
       "\n",
       "    .dataframe thead th {\n",
       "        text-align: right;\n",
       "    }\n",
       "</style>\n",
       "<table border=\"1\" class=\"dataframe\">\n",
       "  <thead>\n",
       "    <tr style=\"text-align: right;\">\n",
       "      <th></th>\n",
       "      <th>Unnamed: 0</th>\n",
       "      <th>Category</th>\n",
       "      <th>GPU</th>\n",
       "      <th>OS</th>\n",
       "      <th>CPU_core</th>\n",
       "      <th>Screen_Size_cm</th>\n",
       "      <th>CPU_frequency</th>\n",
       "      <th>RAM_GB</th>\n",
       "      <th>Storage_GB_SSD</th>\n",
       "      <th>Weight_kg</th>\n",
       "      <th>Price</th>\n",
       "    </tr>\n",
       "  </thead>\n",
       "  <tbody>\n",
       "    <tr>\n",
       "      <th>count</th>\n",
       "      <td>238.000000</td>\n",
       "      <td>238.000000</td>\n",
       "      <td>238.000000</td>\n",
       "      <td>238.000000</td>\n",
       "      <td>238.000000</td>\n",
       "      <td>234.000000</td>\n",
       "      <td>238.000000</td>\n",
       "      <td>238.000000</td>\n",
       "      <td>238.000000</td>\n",
       "      <td>233.000000</td>\n",
       "      <td>238.000000</td>\n",
       "    </tr>\n",
       "    <tr>\n",
       "      <th>mean</th>\n",
       "      <td>118.500000</td>\n",
       "      <td>3.205882</td>\n",
       "      <td>2.151261</td>\n",
       "      <td>1.058824</td>\n",
       "      <td>5.630252</td>\n",
       "      <td>37.269615</td>\n",
       "      <td>2.360084</td>\n",
       "      <td>7.882353</td>\n",
       "      <td>245.781513</td>\n",
       "      <td>1.862232</td>\n",
       "      <td>1462.344538</td>\n",
       "    </tr>\n",
       "    <tr>\n",
       "      <th>std</th>\n",
       "      <td>68.848868</td>\n",
       "      <td>0.776533</td>\n",
       "      <td>0.638282</td>\n",
       "      <td>0.235790</td>\n",
       "      <td>1.241787</td>\n",
       "      <td>2.971365</td>\n",
       "      <td>0.411393</td>\n",
       "      <td>2.482603</td>\n",
       "      <td>34.765316</td>\n",
       "      <td>0.494332</td>\n",
       "      <td>574.607699</td>\n",
       "    </tr>\n",
       "    <tr>\n",
       "      <th>min</th>\n",
       "      <td>0.000000</td>\n",
       "      <td>1.000000</td>\n",
       "      <td>1.000000</td>\n",
       "      <td>1.000000</td>\n",
       "      <td>3.000000</td>\n",
       "      <td>30.480000</td>\n",
       "      <td>1.200000</td>\n",
       "      <td>4.000000</td>\n",
       "      <td>128.000000</td>\n",
       "      <td>0.810000</td>\n",
       "      <td>527.000000</td>\n",
       "    </tr>\n",
       "    <tr>\n",
       "      <th>25%</th>\n",
       "      <td>59.250000</td>\n",
       "      <td>3.000000</td>\n",
       "      <td>2.000000</td>\n",
       "      <td>1.000000</td>\n",
       "      <td>5.000000</td>\n",
       "      <td>35.560000</td>\n",
       "      <td>2.000000</td>\n",
       "      <td>8.000000</td>\n",
       "      <td>256.000000</td>\n",
       "      <td>1.440000</td>\n",
       "      <td>1066.500000</td>\n",
       "    </tr>\n",
       "    <tr>\n",
       "      <th>50%</th>\n",
       "      <td>118.500000</td>\n",
       "      <td>3.000000</td>\n",
       "      <td>2.000000</td>\n",
       "      <td>1.000000</td>\n",
       "      <td>5.000000</td>\n",
       "      <td>38.100000</td>\n",
       "      <td>2.500000</td>\n",
       "      <td>8.000000</td>\n",
       "      <td>256.000000</td>\n",
       "      <td>1.870000</td>\n",
       "      <td>1333.000000</td>\n",
       "    </tr>\n",
       "    <tr>\n",
       "      <th>75%</th>\n",
       "      <td>177.750000</td>\n",
       "      <td>4.000000</td>\n",
       "      <td>3.000000</td>\n",
       "      <td>1.000000</td>\n",
       "      <td>7.000000</td>\n",
       "      <td>39.624000</td>\n",
       "      <td>2.700000</td>\n",
       "      <td>8.000000</td>\n",
       "      <td>256.000000</td>\n",
       "      <td>2.200000</td>\n",
       "      <td>1777.000000</td>\n",
       "    </tr>\n",
       "    <tr>\n",
       "      <th>max</th>\n",
       "      <td>237.000000</td>\n",
       "      <td>5.000000</td>\n",
       "      <td>3.000000</td>\n",
       "      <td>2.000000</td>\n",
       "      <td>7.000000</td>\n",
       "      <td>43.942000</td>\n",
       "      <td>2.900000</td>\n",
       "      <td>16.000000</td>\n",
       "      <td>256.000000</td>\n",
       "      <td>3.600000</td>\n",
       "      <td>3810.000000</td>\n",
       "    </tr>\n",
       "  </tbody>\n",
       "</table>\n",
       "</div>"
      ],
      "text/plain": [
       "       Unnamed: 0    Category         GPU          OS    CPU_core  \\\n",
       "count  238.000000  238.000000  238.000000  238.000000  238.000000   \n",
       "mean   118.500000    3.205882    2.151261    1.058824    5.630252   \n",
       "std     68.848868    0.776533    0.638282    0.235790    1.241787   \n",
       "min      0.000000    1.000000    1.000000    1.000000    3.000000   \n",
       "25%     59.250000    3.000000    2.000000    1.000000    5.000000   \n",
       "50%    118.500000    3.000000    2.000000    1.000000    5.000000   \n",
       "75%    177.750000    4.000000    3.000000    1.000000    7.000000   \n",
       "max    237.000000    5.000000    3.000000    2.000000    7.000000   \n",
       "\n",
       "       Screen_Size_cm  CPU_frequency      RAM_GB  Storage_GB_SSD   Weight_kg  \\\n",
       "count      234.000000     238.000000  238.000000      238.000000  233.000000   \n",
       "mean        37.269615       2.360084    7.882353      245.781513    1.862232   \n",
       "std          2.971365       0.411393    2.482603       34.765316    0.494332   \n",
       "min         30.480000       1.200000    4.000000      128.000000    0.810000   \n",
       "25%         35.560000       2.000000    8.000000      256.000000    1.440000   \n",
       "50%         38.100000       2.500000    8.000000      256.000000    1.870000   \n",
       "75%         39.624000       2.700000    8.000000      256.000000    2.200000   \n",
       "max         43.942000       2.900000   16.000000      256.000000    3.600000   \n",
       "\n",
       "             Price  \n",
       "count   238.000000  \n",
       "mean   1462.344538  \n",
       "std     574.607699  \n",
       "min     527.000000  \n",
       "25%    1066.500000  \n",
       "50%    1333.000000  \n",
       "75%    1777.000000  \n",
       "max    3810.000000  "
      ]
     },
     "execution_count": 269,
     "metadata": {},
     "output_type": "execute_result"
    }
   ],
   "source": [
    "laptop_data.info()\n",
    "laptop_data.describe()"
   ]
  },
  {
   "cell_type": "code",
   "execution_count": 270,
   "id": "5ab7b33e",
   "metadata": {},
   "outputs": [
    {
     "data": {
      "text/html": [
       "<div>\n",
       "<style scoped>\n",
       "    .dataframe tbody tr th:only-of-type {\n",
       "        vertical-align: middle;\n",
       "    }\n",
       "\n",
       "    .dataframe tbody tr th {\n",
       "        vertical-align: top;\n",
       "    }\n",
       "\n",
       "    .dataframe thead th {\n",
       "        text-align: right;\n",
       "    }\n",
       "</style>\n",
       "<table border=\"1\" class=\"dataframe\">\n",
       "  <thead>\n",
       "    <tr style=\"text-align: right;\">\n",
       "      <th></th>\n",
       "      <th>Unnamed: 0</th>\n",
       "      <th>Manufacturer</th>\n",
       "      <th>Category</th>\n",
       "      <th>Screen</th>\n",
       "      <th>GPU</th>\n",
       "      <th>OS</th>\n",
       "      <th>CPU_core</th>\n",
       "      <th>Screen_Size_cm</th>\n",
       "      <th>CPU_frequency</th>\n",
       "      <th>RAM_GB</th>\n",
       "      <th>Storage_GB_SSD</th>\n",
       "      <th>Weight_kg</th>\n",
       "      <th>Price</th>\n",
       "    </tr>\n",
       "  </thead>\n",
       "  <tbody>\n",
       "    <tr>\n",
       "      <th>0</th>\n",
       "      <td>0</td>\n",
       "      <td>Acer</td>\n",
       "      <td>4</td>\n",
       "      <td>IPS Panel</td>\n",
       "      <td>2</td>\n",
       "      <td>1</td>\n",
       "      <td>5</td>\n",
       "      <td>35.560</td>\n",
       "      <td>1.6</td>\n",
       "      <td>8</td>\n",
       "      <td>256</td>\n",
       "      <td>1.60</td>\n",
       "      <td>978</td>\n",
       "    </tr>\n",
       "    <tr>\n",
       "      <th>1</th>\n",
       "      <td>1</td>\n",
       "      <td>Dell</td>\n",
       "      <td>3</td>\n",
       "      <td>Full HD</td>\n",
       "      <td>1</td>\n",
       "      <td>1</td>\n",
       "      <td>3</td>\n",
       "      <td>39.624</td>\n",
       "      <td>2.0</td>\n",
       "      <td>4</td>\n",
       "      <td>256</td>\n",
       "      <td>2.20</td>\n",
       "      <td>634</td>\n",
       "    </tr>\n",
       "    <tr>\n",
       "      <th>2</th>\n",
       "      <td>2</td>\n",
       "      <td>Dell</td>\n",
       "      <td>3</td>\n",
       "      <td>Full HD</td>\n",
       "      <td>1</td>\n",
       "      <td>1</td>\n",
       "      <td>7</td>\n",
       "      <td>39.624</td>\n",
       "      <td>2.7</td>\n",
       "      <td>8</td>\n",
       "      <td>256</td>\n",
       "      <td>2.20</td>\n",
       "      <td>946</td>\n",
       "    </tr>\n",
       "    <tr>\n",
       "      <th>3</th>\n",
       "      <td>3</td>\n",
       "      <td>Dell</td>\n",
       "      <td>4</td>\n",
       "      <td>IPS Panel</td>\n",
       "      <td>2</td>\n",
       "      <td>1</td>\n",
       "      <td>5</td>\n",
       "      <td>33.782</td>\n",
       "      <td>1.6</td>\n",
       "      <td>8</td>\n",
       "      <td>128</td>\n",
       "      <td>1.22</td>\n",
       "      <td>1244</td>\n",
       "    </tr>\n",
       "  </tbody>\n",
       "</table>\n",
       "</div>"
      ],
      "text/plain": [
       "   Unnamed: 0 Manufacturer  Category     Screen  GPU  OS  CPU_core  \\\n",
       "0           0         Acer         4  IPS Panel    2   1         5   \n",
       "1           1         Dell         3    Full HD    1   1         3   \n",
       "2           2         Dell         3    Full HD    1   1         7   \n",
       "3           3         Dell         4  IPS Panel    2   1         5   \n",
       "\n",
       "   Screen_Size_cm  CPU_frequency  RAM_GB  Storage_GB_SSD  Weight_kg  Price  \n",
       "0          35.560            1.6       8             256       1.60    978  \n",
       "1          39.624            2.0       4             256       2.20    634  \n",
       "2          39.624            2.7       8             256       2.20    946  \n",
       "3          33.782            1.6       8             128       1.22   1244  "
      ]
     },
     "execution_count": 270,
     "metadata": {},
     "output_type": "execute_result"
    }
   ],
   "source": [
    "laptop_data.head(4)"
   ]
  },
  {
   "cell_type": "code",
   "execution_count": 271,
   "id": "575258f3",
   "metadata": {},
   "outputs": [],
   "source": [
    "laptop_data = laptop_data.drop(laptop_data.columns[0],axis=1)"
   ]
  },
  {
   "cell_type": "code",
   "execution_count": 272,
   "id": "1aa1458e",
   "metadata": {},
   "outputs": [
    {
     "data": {
      "text/html": [
       "<div>\n",
       "<style scoped>\n",
       "    .dataframe tbody tr th:only-of-type {\n",
       "        vertical-align: middle;\n",
       "    }\n",
       "\n",
       "    .dataframe tbody tr th {\n",
       "        vertical-align: top;\n",
       "    }\n",
       "\n",
       "    .dataframe thead th {\n",
       "        text-align: right;\n",
       "    }\n",
       "</style>\n",
       "<table border=\"1\" class=\"dataframe\">\n",
       "  <thead>\n",
       "    <tr style=\"text-align: right;\">\n",
       "      <th></th>\n",
       "      <th>Manufacturer</th>\n",
       "      <th>Category</th>\n",
       "      <th>Screen</th>\n",
       "      <th>GPU</th>\n",
       "      <th>OS</th>\n",
       "      <th>CPU_core</th>\n",
       "      <th>Screen_Size_cm</th>\n",
       "      <th>CPU_frequency</th>\n",
       "      <th>RAM_GB</th>\n",
       "      <th>Storage_GB_SSD</th>\n",
       "      <th>Weight_kg</th>\n",
       "      <th>Price</th>\n",
       "    </tr>\n",
       "  </thead>\n",
       "  <tbody>\n",
       "    <tr>\n",
       "      <th>0</th>\n",
       "      <td>Acer</td>\n",
       "      <td>4</td>\n",
       "      <td>IPS Panel</td>\n",
       "      <td>2</td>\n",
       "      <td>1</td>\n",
       "      <td>5</td>\n",
       "      <td>35.560</td>\n",
       "      <td>1.6</td>\n",
       "      <td>8</td>\n",
       "      <td>256</td>\n",
       "      <td>1.6</td>\n",
       "      <td>978</td>\n",
       "    </tr>\n",
       "    <tr>\n",
       "      <th>1</th>\n",
       "      <td>Dell</td>\n",
       "      <td>3</td>\n",
       "      <td>Full HD</td>\n",
       "      <td>1</td>\n",
       "      <td>1</td>\n",
       "      <td>3</td>\n",
       "      <td>39.624</td>\n",
       "      <td>2.0</td>\n",
       "      <td>4</td>\n",
       "      <td>256</td>\n",
       "      <td>2.2</td>\n",
       "      <td>634</td>\n",
       "    </tr>\n",
       "    <tr>\n",
       "      <th>2</th>\n",
       "      <td>Dell</td>\n",
       "      <td>3</td>\n",
       "      <td>Full HD</td>\n",
       "      <td>1</td>\n",
       "      <td>1</td>\n",
       "      <td>7</td>\n",
       "      <td>39.624</td>\n",
       "      <td>2.7</td>\n",
       "      <td>8</td>\n",
       "      <td>256</td>\n",
       "      <td>2.2</td>\n",
       "      <td>946</td>\n",
       "    </tr>\n",
       "  </tbody>\n",
       "</table>\n",
       "</div>"
      ],
      "text/plain": [
       "  Manufacturer  Category     Screen  GPU  OS  CPU_core  Screen_Size_cm  \\\n",
       "0         Acer         4  IPS Panel    2   1         5          35.560   \n",
       "1         Dell         3    Full HD    1   1         3          39.624   \n",
       "2         Dell         3    Full HD    1   1         7          39.624   \n",
       "\n",
       "   CPU_frequency  RAM_GB  Storage_GB_SSD  Weight_kg  Price  \n",
       "0            1.6       8             256        1.6    978  \n",
       "1            2.0       4             256        2.2    634  \n",
       "2            2.7       8             256        2.2    946  "
      ]
     },
     "execution_count": 272,
     "metadata": {},
     "output_type": "execute_result"
    }
   ],
   "source": [
    "laptop_data.head(3)"
   ]
  },
  {
   "cell_type": "code",
   "execution_count": 273,
   "id": "8cd0dc18",
   "metadata": {},
   "outputs": [
    {
     "data": {
      "text/html": [
       "<div>\n",
       "<style scoped>\n",
       "    .dataframe tbody tr th:only-of-type {\n",
       "        vertical-align: middle;\n",
       "    }\n",
       "\n",
       "    .dataframe tbody tr th {\n",
       "        vertical-align: top;\n",
       "    }\n",
       "\n",
       "    .dataframe thead th {\n",
       "        text-align: right;\n",
       "    }\n",
       "</style>\n",
       "<table border=\"1\" class=\"dataframe\">\n",
       "  <thead>\n",
       "    <tr style=\"text-align: right;\">\n",
       "      <th></th>\n",
       "      <th>total number of missing values</th>\n",
       "    </tr>\n",
       "  </thead>\n",
       "  <tbody>\n",
       "    <tr>\n",
       "      <th>Manufacturer</th>\n",
       "      <td>0</td>\n",
       "    </tr>\n",
       "    <tr>\n",
       "      <th>Category</th>\n",
       "      <td>0</td>\n",
       "    </tr>\n",
       "    <tr>\n",
       "      <th>Screen</th>\n",
       "      <td>0</td>\n",
       "    </tr>\n",
       "    <tr>\n",
       "      <th>GPU</th>\n",
       "      <td>0</td>\n",
       "    </tr>\n",
       "    <tr>\n",
       "      <th>OS</th>\n",
       "      <td>0</td>\n",
       "    </tr>\n",
       "    <tr>\n",
       "      <th>CPU_core</th>\n",
       "      <td>0</td>\n",
       "    </tr>\n",
       "    <tr>\n",
       "      <th>Screen_Size_cm</th>\n",
       "      <td>4</td>\n",
       "    </tr>\n",
       "    <tr>\n",
       "      <th>CPU_frequency</th>\n",
       "      <td>0</td>\n",
       "    </tr>\n",
       "    <tr>\n",
       "      <th>RAM_GB</th>\n",
       "      <td>0</td>\n",
       "    </tr>\n",
       "    <tr>\n",
       "      <th>Storage_GB_SSD</th>\n",
       "      <td>0</td>\n",
       "    </tr>\n",
       "    <tr>\n",
       "      <th>Weight_kg</th>\n",
       "      <td>5</td>\n",
       "    </tr>\n",
       "    <tr>\n",
       "      <th>Price</th>\n",
       "      <td>0</td>\n",
       "    </tr>\n",
       "  </tbody>\n",
       "</table>\n",
       "</div>"
      ],
      "text/plain": [
       "                total number of missing values\n",
       "Manufacturer                                 0\n",
       "Category                                     0\n",
       "Screen                                       0\n",
       "GPU                                          0\n",
       "OS                                           0\n",
       "CPU_core                                     0\n",
       "Screen_Size_cm                               4\n",
       "CPU_frequency                                0\n",
       "RAM_GB                                       0\n",
       "Storage_GB_SSD                               0\n",
       "Weight_kg                                    5\n",
       "Price                                        0"
      ]
     },
     "execution_count": 273,
     "metadata": {},
     "output_type": "execute_result"
    }
   ],
   "source": [
    "laptop_data.isnull().sum().to_frame().rename(columns={0:'total number of missing values'})"
   ]
  },
  {
   "cell_type": "code",
   "execution_count": 274,
   "id": "6947bea7",
   "metadata": {},
   "outputs": [
    {
     "name": "stdout",
     "output_type": "stream",
     "text": [
      "<class 'pandas.core.frame.DataFrame'>\n",
      "Index: 229 entries, 0 to 237\n",
      "Data columns (total 12 columns):\n",
      " #   Column          Non-Null Count  Dtype  \n",
      "---  ------          --------------  -----  \n",
      " 0   Manufacturer    229 non-null    object \n",
      " 1   Category        229 non-null    int64  \n",
      " 2   Screen          229 non-null    object \n",
      " 3   GPU             229 non-null    int64  \n",
      " 4   OS              229 non-null    int64  \n",
      " 5   CPU_core        229 non-null    int64  \n",
      " 6   Screen_Size_cm  229 non-null    float64\n",
      " 7   CPU_frequency   229 non-null    float64\n",
      " 8   RAM_GB          229 non-null    int64  \n",
      " 9   Storage_GB_SSD  229 non-null    int64  \n",
      " 10  Weight_kg       229 non-null    float64\n",
      " 11  Price           229 non-null    int64  \n",
      "dtypes: float64(3), int64(7), object(2)\n",
      "memory usage: 23.3+ KB\n"
     ]
    }
   ],
   "source": [
    "laptop_data = laptop_data.dropna()\n",
    "laptop_data.info()"
   ]
  },
  {
   "cell_type": "code",
   "execution_count": 275,
   "id": "63c63215",
   "metadata": {},
   "outputs": [
    {
     "name": "stdout",
     "output_type": "stream",
     "text": [
      "Duplicated Values:  0\n"
     ]
    }
   ],
   "source": [
    "print(\"Duplicated Values: \", laptop_data.duplicated().sum())"
   ]
  },
  {
   "cell_type": "code",
   "execution_count": 276,
   "id": "8a3f871c",
   "metadata": {},
   "outputs": [
    {
     "data": {
      "text/plain": [
       "array(['Acer', 'Dell', 'HP', 'Asus', 'Lenovo', 'Huawei', 'Toshiba', 'MSI',\n",
       "       'Razer', 'Samsung', 'Xiaomi'], dtype=object)"
      ]
     },
     "execution_count": 276,
     "metadata": {},
     "output_type": "execute_result"
    }
   ],
   "source": [
    "laptop_data['Manufacturer'].unique()"
   ]
  },
  {
   "cell_type": "markdown",
   "id": "2d7b369a",
   "metadata": {},
   "source": [
    "# EXPLORATORY DATA ANALYSIS\n"
   ]
  },
  {
   "cell_type": "code",
   "execution_count": 277,
   "id": "2984f410",
   "metadata": {},
   "outputs": [
    {
     "data": {
      "image/png": "[encoded data removed]",
      "text/plain": [
       "<Figure size 1500x1000 with 4 Axes>"
      ]
     },
     "metadata": {},
     "output_type": "display_data"
    }
   ],
   "source": [
    "plt.figure(figsize=(15,10))\n",
    "\n",
    "plt.subplot(2,2,1)\n",
    "sns.barplot(x='Manufacturer',y='Price',data=laptop_data)\n",
    "plt.title(\"Manufacturer vs Price chart\")\n",
    "plt.xticks(rotation=90)\n",
    "\n",
    "plt.subplot(2,2,2)\n",
    "sns.histplot(laptop_data['Price'],color='red',kde=True)\n",
    "plt.title(\"Price Distribution\")\n",
    "\n",
    "plt.subplot(2,2,3)\n",
    "sns.barplot(x='RAM_GB',y='Price',data=laptop_data)\n",
    "plt.title(\"RAM(GB)vs Price chart\")\n",
    "\n",
    "plt.subplot(2,2,4)\n",
    "sns.barplot(x='Storage_GB_SSD',y='Price',data=laptop_data)\n",
    "plt.title(\"Storage_GB_SSD vs Price chart\")\n",
    "\n",
    "plt.tight_layout()"
   ]
  },
  {
   "cell_type": "code",
   "execution_count": 278,
   "id": "8effc303",
   "metadata": {},
   "outputs": [
    {
     "data": {
      "text/plain": [
       "Text(0.5, 1.0, 'Weight vs Price chart')"
      ]
     },
     "execution_count": 278,
     "metadata": {},
     "output_type": "execute_result"
    },
    {
     "data": {
      "image/png": "[encoded data removed]",
      "text/plain": [
       "<Figure size 1500x600 with 2 Axes>"
      ]
     },
     "metadata": {},
     "output_type": "display_data"
    }
   ],
   "source": [
    "plt.figure(figsize=(15,6))\n",
    "plt.subplot(1,2,1)\n",
    "sns.scatterplot(x='Screen_Size_cm',y='Price',data=laptop_data)\n",
    "plt.title(\"Screen Size vs Price chart\")\n",
    "\n",
    "plt.subplot(1,2,2)\n",
    "sns.scatterplot(x='Weight_kg',y='Price',data=laptop_data)\n",
    "plt.title(\"Weight vs Price chart\")"
   ]
  },
  {
   "cell_type": "code",
   "execution_count": 279,
   "id": "fa78a4f6",
   "metadata": {},
   "outputs": [
    {
     "data": {
      "text/plain": [
       "<Axes: >"
      ]
     },
     "execution_count": 279,
     "metadata": {},
     "output_type": "execute_result"
    },
    {
     "data": {
      "image/png": "[encoded data removed]",
      "text/plain": [
       "<Figure size 1200x600 with 2 Axes>"
      ]
     },
     "metadata": {},
     "output_type": "display_data"
    }
   ],
   "source": [
    "numeric_columns =  laptop_data.select_dtypes(include=['int','float'])\n",
    "\n",
    "correlation_matrix = numeric_columns.corr()\n",
    "plt.figure(figsize=(12,6))\n",
    "\n",
    "sns.heatmap(correlation_matrix, annot=True, cmap='coolwarm', fmt=\".2f\", linewidths=.5)"
   ]
  },
  {
   "cell_type": "markdown",
   "id": "b03b2f51",
   "metadata": {},
   "source": [
    "# Data Preprocessing "
   ]
  },
  {
   "cell_type": "code",
   "execution_count": 280,
   "id": "4e972ed1",
   "metadata": {},
   "outputs": [
    {
     "data": {
      "text/html": [
       "<div>\n",
       "<style scoped>\n",
       "    .dataframe tbody tr th:only-of-type {\n",
       "        vertical-align: middle;\n",
       "    }\n",
       "\n",
       "    .dataframe tbody tr th {\n",
       "        vertical-align: top;\n",
       "    }\n",
       "\n",
       "    .dataframe thead th {\n",
       "        text-align: right;\n",
       "    }\n",
       "</style>\n",
       "<table border=\"1\" class=\"dataframe\">\n",
       "  <thead>\n",
       "    <tr style=\"text-align: right;\">\n",
       "      <th></th>\n",
       "      <th>Category</th>\n",
       "      <th>GPU</th>\n",
       "      <th>OS</th>\n",
       "      <th>CPU_core</th>\n",
       "      <th>Screen_Size_cm</th>\n",
       "      <th>CPU_frequency</th>\n",
       "      <th>RAM_GB</th>\n",
       "      <th>Storage_GB_SSD</th>\n",
       "      <th>Weight_kg</th>\n",
       "      <th>Price</th>\n",
       "      <th>...</th>\n",
       "      <th>Manufacturer_HP</th>\n",
       "      <th>Manufacturer_Huawei</th>\n",
       "      <th>Manufacturer_Lenovo</th>\n",
       "      <th>Manufacturer_MSI</th>\n",
       "      <th>Manufacturer_Razer</th>\n",
       "      <th>Manufacturer_Samsung</th>\n",
       "      <th>Manufacturer_Toshiba</th>\n",
       "      <th>Manufacturer_Xiaomi</th>\n",
       "      <th>Screen_Full HD</th>\n",
       "      <th>Screen_IPS Panel</th>\n",
       "    </tr>\n",
       "  </thead>\n",
       "  <tbody>\n",
       "    <tr>\n",
       "      <th>0</th>\n",
       "      <td>4</td>\n",
       "      <td>2</td>\n",
       "      <td>1</td>\n",
       "      <td>5</td>\n",
       "      <td>35</td>\n",
       "      <td>1</td>\n",
       "      <td>8</td>\n",
       "      <td>256</td>\n",
       "      <td>1</td>\n",
       "      <td>978</td>\n",
       "      <td>...</td>\n",
       "      <td>0</td>\n",
       "      <td>0</td>\n",
       "      <td>0</td>\n",
       "      <td>0</td>\n",
       "      <td>0</td>\n",
       "      <td>0</td>\n",
       "      <td>0</td>\n",
       "      <td>0</td>\n",
       "      <td>0</td>\n",
       "      <td>1</td>\n",
       "    </tr>\n",
       "    <tr>\n",
       "      <th>1</th>\n",
       "      <td>3</td>\n",
       "      <td>1</td>\n",
       "      <td>1</td>\n",
       "      <td>3</td>\n",
       "      <td>39</td>\n",
       "      <td>2</td>\n",
       "      <td>4</td>\n",
       "      <td>256</td>\n",
       "      <td>2</td>\n",
       "      <td>634</td>\n",
       "      <td>...</td>\n",
       "      <td>0</td>\n",
       "      <td>0</td>\n",
       "      <td>0</td>\n",
       "      <td>0</td>\n",
       "      <td>0</td>\n",
       "      <td>0</td>\n",
       "      <td>0</td>\n",
       "      <td>0</td>\n",
       "      <td>1</td>\n",
       "      <td>0</td>\n",
       "    </tr>\n",
       "    <tr>\n",
       "      <th>2</th>\n",
       "      <td>3</td>\n",
       "      <td>1</td>\n",
       "      <td>1</td>\n",
       "      <td>7</td>\n",
       "      <td>39</td>\n",
       "      <td>2</td>\n",
       "      <td>8</td>\n",
       "      <td>256</td>\n",
       "      <td>2</td>\n",
       "      <td>946</td>\n",
       "      <td>...</td>\n",
       "      <td>0</td>\n",
       "      <td>0</td>\n",
       "      <td>0</td>\n",
       "      <td>0</td>\n",
       "      <td>0</td>\n",
       "      <td>0</td>\n",
       "      <td>0</td>\n",
       "      <td>0</td>\n",
       "      <td>1</td>\n",
       "      <td>0</td>\n",
       "    </tr>\n",
       "    <tr>\n",
       "      <th>3</th>\n",
       "      <td>4</td>\n",
       "      <td>2</td>\n",
       "      <td>1</td>\n",
       "      <td>5</td>\n",
       "      <td>33</td>\n",
       "      <td>1</td>\n",
       "      <td>8</td>\n",
       "      <td>128</td>\n",
       "      <td>1</td>\n",
       "      <td>1244</td>\n",
       "      <td>...</td>\n",
       "      <td>0</td>\n",
       "      <td>0</td>\n",
       "      <td>0</td>\n",
       "      <td>0</td>\n",
       "      <td>0</td>\n",
       "      <td>0</td>\n",
       "      <td>0</td>\n",
       "      <td>0</td>\n",
       "      <td>0</td>\n",
       "      <td>1</td>\n",
       "    </tr>\n",
       "    <tr>\n",
       "      <th>4</th>\n",
       "      <td>4</td>\n",
       "      <td>2</td>\n",
       "      <td>1</td>\n",
       "      <td>7</td>\n",
       "      <td>39</td>\n",
       "      <td>1</td>\n",
       "      <td>8</td>\n",
       "      <td>256</td>\n",
       "      <td>1</td>\n",
       "      <td>837</td>\n",
       "      <td>...</td>\n",
       "      <td>1</td>\n",
       "      <td>0</td>\n",
       "      <td>0</td>\n",
       "      <td>0</td>\n",
       "      <td>0</td>\n",
       "      <td>0</td>\n",
       "      <td>0</td>\n",
       "      <td>0</td>\n",
       "      <td>1</td>\n",
       "      <td>0</td>\n",
       "    </tr>\n",
       "  </tbody>\n",
       "</table>\n",
       "<p>5 rows × 23 columns</p>\n",
       "</div>"
      ],
      "text/plain": [
       "   Category  GPU  OS  CPU_core  Screen_Size_cm  CPU_frequency  RAM_GB  \\\n",
       "0         4    2   1         5              35              1       8   \n",
       "1         3    1   1         3              39              2       4   \n",
       "2         3    1   1         7              39              2       8   \n",
       "3         4    2   1         5              33              1       8   \n",
       "4         4    2   1         7              39              1       8   \n",
       "\n",
       "   Storage_GB_SSD  Weight_kg  Price  ...  Manufacturer_HP  \\\n",
       "0             256          1    978  ...                0   \n",
       "1             256          2    634  ...                0   \n",
       "2             256          2    946  ...                0   \n",
       "3             128          1   1244  ...                0   \n",
       "4             256          1    837  ...                1   \n",
       "\n",
       "   Manufacturer_Huawei  Manufacturer_Lenovo  Manufacturer_MSI  \\\n",
       "0                    0                    0                 0   \n",
       "1                    0                    0                 0   \n",
       "2                    0                    0                 0   \n",
       "3                    0                    0                 0   \n",
       "4                    0                    0                 0   \n",
       "\n",
       "   Manufacturer_Razer  Manufacturer_Samsung  Manufacturer_Toshiba  \\\n",
       "0                   0                     0                     0   \n",
       "1                   0                     0                     0   \n",
       "2                   0                     0                     0   \n",
       "3                   0                     0                     0   \n",
       "4                   0                     0                     0   \n",
       "\n",
       "   Manufacturer_Xiaomi  Screen_Full HD  Screen_IPS Panel  \n",
       "0                    0               0                 1  \n",
       "1                    0               1                 0  \n",
       "2                    0               1                 0  \n",
       "3                    0               0                 1  \n",
       "4                    0               1                 0  \n",
       "\n",
       "[5 rows x 23 columns]"
      ]
     },
     "execution_count": 280,
     "metadata": {},
     "output_type": "execute_result"
    }
   ],
   "source": [
    "laptop_data = pd.get_dummies(laptop_data, columns = ['Manufacturer','Screen'], dummy_na=False)\n",
    "# Convert True/False values to 0/1\n",
    "laptop_data = laptop_data.astype(int)\n",
    "laptop_data.head()"
   ]
  },
  {
   "cell_type": "code",
   "execution_count": 281,
   "id": "2b243509",
   "metadata": {},
   "outputs": [
    {
     "data": {
      "text/html": [
       "<div>\n",
       "<style scoped>\n",
       "    .dataframe tbody tr th:only-of-type {\n",
       "        vertical-align: middle;\n",
       "    }\n",
       "\n",
       "    .dataframe tbody tr th {\n",
       "        vertical-align: top;\n",
       "    }\n",
       "\n",
       "    .dataframe thead th {\n",
       "        text-align: right;\n",
       "    }\n",
       "</style>\n",
       "<table border=\"1\" class=\"dataframe\">\n",
       "  <thead>\n",
       "    <tr style=\"text-align: right;\">\n",
       "      <th></th>\n",
       "      <th>Category</th>\n",
       "      <th>GPU</th>\n",
       "      <th>OS</th>\n",
       "      <th>CPU_core</th>\n",
       "      <th>Screen_Size_cm</th>\n",
       "      <th>CPU_frequency</th>\n",
       "      <th>RAM_GB</th>\n",
       "      <th>Storage_GB_SSD</th>\n",
       "      <th>Weight_kg</th>\n",
       "      <th>Price</th>\n",
       "      <th>...</th>\n",
       "      <th>Manufacturer_HP</th>\n",
       "      <th>Manufacturer_Huawei</th>\n",
       "      <th>Manufacturer_Lenovo</th>\n",
       "      <th>Manufacturer_MSI</th>\n",
       "      <th>Manufacturer_Razer</th>\n",
       "      <th>Manufacturer_Samsung</th>\n",
       "      <th>Manufacturer_Toshiba</th>\n",
       "      <th>Manufacturer_Xiaomi</th>\n",
       "      <th>Screen_Full HD</th>\n",
       "      <th>Screen_IPS Panel</th>\n",
       "    </tr>\n",
       "  </thead>\n",
       "  <tbody>\n",
       "    <tr>\n",
       "      <th>0</th>\n",
       "      <td>4</td>\n",
       "      <td>-0.247565</td>\n",
       "      <td>1</td>\n",
       "      <td>-0.497368</td>\n",
       "      <td>35</td>\n",
       "      <td>1</td>\n",
       "      <td>0.053442</td>\n",
       "      <td>0.300793</td>\n",
       "      <td>1</td>\n",
       "      <td>978</td>\n",
       "      <td>...</td>\n",
       "      <td>0</td>\n",
       "      <td>0</td>\n",
       "      <td>0</td>\n",
       "      <td>0</td>\n",
       "      <td>0</td>\n",
       "      <td>0</td>\n",
       "      <td>0</td>\n",
       "      <td>0</td>\n",
       "      <td>0</td>\n",
       "      <td>1</td>\n",
       "    </tr>\n",
       "    <tr>\n",
       "      <th>1</th>\n",
       "      <td>3</td>\n",
       "      <td>-1.822350</td>\n",
       "      <td>1</td>\n",
       "      <td>-2.101554</td>\n",
       "      <td>39</td>\n",
       "      <td>2</td>\n",
       "      <td>-1.578322</td>\n",
       "      <td>0.300793</td>\n",
       "      <td>2</td>\n",
       "      <td>634</td>\n",
       "      <td>...</td>\n",
       "      <td>0</td>\n",
       "      <td>0</td>\n",
       "      <td>0</td>\n",
       "      <td>0</td>\n",
       "      <td>0</td>\n",
       "      <td>0</td>\n",
       "      <td>0</td>\n",
       "      <td>0</td>\n",
       "      <td>1</td>\n",
       "      <td>0</td>\n",
       "    </tr>\n",
       "    <tr>\n",
       "      <th>2</th>\n",
       "      <td>3</td>\n",
       "      <td>-1.822350</td>\n",
       "      <td>1</td>\n",
       "      <td>1.106818</td>\n",
       "      <td>39</td>\n",
       "      <td>2</td>\n",
       "      <td>0.053442</td>\n",
       "      <td>0.300793</td>\n",
       "      <td>2</td>\n",
       "      <td>946</td>\n",
       "      <td>...</td>\n",
       "      <td>0</td>\n",
       "      <td>0</td>\n",
       "      <td>0</td>\n",
       "      <td>0</td>\n",
       "      <td>0</td>\n",
       "      <td>0</td>\n",
       "      <td>0</td>\n",
       "      <td>0</td>\n",
       "      <td>1</td>\n",
       "      <td>0</td>\n",
       "    </tr>\n",
       "    <tr>\n",
       "      <th>3</th>\n",
       "      <td>4</td>\n",
       "      <td>-0.247565</td>\n",
       "      <td>1</td>\n",
       "      <td>-0.497368</td>\n",
       "      <td>33</td>\n",
       "      <td>1</td>\n",
       "      <td>0.053442</td>\n",
       "      <td>-3.324550</td>\n",
       "      <td>1</td>\n",
       "      <td>1244</td>\n",
       "      <td>...</td>\n",
       "      <td>0</td>\n",
       "      <td>0</td>\n",
       "      <td>0</td>\n",
       "      <td>0</td>\n",
       "      <td>0</td>\n",
       "      <td>0</td>\n",
       "      <td>0</td>\n",
       "      <td>0</td>\n",
       "      <td>0</td>\n",
       "      <td>1</td>\n",
       "    </tr>\n",
       "    <tr>\n",
       "      <th>4</th>\n",
       "      <td>4</td>\n",
       "      <td>-0.247565</td>\n",
       "      <td>1</td>\n",
       "      <td>1.106818</td>\n",
       "      <td>39</td>\n",
       "      <td>1</td>\n",
       "      <td>0.053442</td>\n",
       "      <td>0.300793</td>\n",
       "      <td>1</td>\n",
       "      <td>837</td>\n",
       "      <td>...</td>\n",
       "      <td>1</td>\n",
       "      <td>0</td>\n",
       "      <td>0</td>\n",
       "      <td>0</td>\n",
       "      <td>0</td>\n",
       "      <td>0</td>\n",
       "      <td>0</td>\n",
       "      <td>0</td>\n",
       "      <td>1</td>\n",
       "      <td>0</td>\n",
       "    </tr>\n",
       "  </tbody>\n",
       "</table>\n",
       "<p>5 rows × 23 columns</p>\n",
       "</div>"
      ],
      "text/plain": [
       "   Category       GPU  OS  CPU_core  Screen_Size_cm  CPU_frequency    RAM_GB  \\\n",
       "0         4 -0.247565   1 -0.497368              35              1  0.053442   \n",
       "1         3 -1.822350   1 -2.101554              39              2 -1.578322   \n",
       "2         3 -1.822350   1  1.106818              39              2  0.053442   \n",
       "3         4 -0.247565   1 -0.497368              33              1  0.053442   \n",
       "4         4 -0.247565   1  1.106818              39              1  0.053442   \n",
       "\n",
       "   Storage_GB_SSD  Weight_kg  Price  ...  Manufacturer_HP  \\\n",
       "0        0.300793          1    978  ...                0   \n",
       "1        0.300793          2    634  ...                0   \n",
       "2        0.300793          2    946  ...                0   \n",
       "3       -3.324550          1   1244  ...                0   \n",
       "4        0.300793          1    837  ...                1   \n",
       "\n",
       "   Manufacturer_Huawei  Manufacturer_Lenovo  Manufacturer_MSI  \\\n",
       "0                    0                    0                 0   \n",
       "1                    0                    0                 0   \n",
       "2                    0                    0                 0   \n",
       "3                    0                    0                 0   \n",
       "4                    0                    0                 0   \n",
       "\n",
       "   Manufacturer_Razer  Manufacturer_Samsung  Manufacturer_Toshiba  \\\n",
       "0                   0                     0                     0   \n",
       "1                   0                     0                     0   \n",
       "2                   0                     0                     0   \n",
       "3                   0                     0                     0   \n",
       "4                   0                     0                     0   \n",
       "\n",
       "   Manufacturer_Xiaomi  Screen_Full HD  Screen_IPS Panel  \n",
       "0                    0               0                 1  \n",
       "1                    0               1                 0  \n",
       "2                    0               1                 0  \n",
       "3                    0               0                 1  \n",
       "4                    0               1                 0  \n",
       "\n",
       "[5 rows x 23 columns]"
      ]
     },
     "execution_count": 281,
     "metadata": {},
     "output_type": "execute_result"
    }
   ],
   "source": [
    "from sklearn.preprocessing import StandardScaler\n",
    "scaler = StandardScaler()\n",
    "\n",
    "# num_columns = ['Category', 'GPU', 'OS', 'CPU_core', 'Screen_Size_cm', \n",
    "#                'CPU_frequency', 'RAM_GB', 'Storage_GB_SSD', 'Weight_kg', 'Price']\n",
    "\n",
    "num_columns = ['GPU','CPU_core', 'RAM_GB', 'Storage_GB_SSD']\n",
    "\n",
    "laptop_data[num_columns] =  scaler.fit_transform(laptop_data[num_columns])\n",
    "laptop_data.head()"
   ]
  },
  {
   "cell_type": "markdown",
   "id": "2ea23326",
   "metadata": {},
   "source": [
    "# Correlation Matrix"
   ]
  },
  {
   "cell_type": "code",
   "execution_count": 282,
   "id": "989bda65",
   "metadata": {},
   "outputs": [
    {
     "name": "stdout",
     "output_type": "stream",
     "text": [
      "Price                   1.000000\n",
      "RAM_GB                  0.573947\n",
      "CPU_core                0.472225\n",
      "GPU                     0.290442\n",
      "Category                0.263302\n",
      "Storage_GB_SSD          0.246707\n",
      "CPU_frequency           0.213117\n",
      "Manufacturer_Razer      0.212971\n",
      "OS                      0.212871\n",
      "Manufacturer_Acer       0.205400\n",
      "Manufacturer_Samsung    0.155463\n",
      "Screen_Size_cm          0.135842\n",
      "Manufacturer_Toshiba    0.121310\n",
      "Weight_kg               0.067551\n",
      "Manufacturer_Asus       0.066937\n",
      "Screen_IPS Panel        0.046108\n",
      "Screen_Full HD          0.046108\n",
      "Manufacturer_Lenovo     0.032799\n",
      "Manufacturer_HP         0.032191\n",
      "Manufacturer_Xiaomi     0.031256\n",
      "Manufacturer_Huawei     0.029540\n",
      "Manufacturer_Dell       0.017757\n",
      "Manufacturer_MSI        0.001320\n",
      "Name: Price, dtype: float64\n"
     ]
    }
   ],
   "source": [
    "correlation_matrix = laptop_data.corr()\n",
    "correlation_with_target = correlation_matrix['Price'].abs().sort_values(ascending=False)\n",
    "print(correlation_with_target)"
   ]
  },
  {
   "cell_type": "code",
   "execution_count": 283,
   "id": "8e810e64",
   "metadata": {},
   "outputs": [
    {
     "name": "stdout",
     "output_type": "stream",
     "text": [
      "<class 'pandas.core.frame.DataFrame'>\n",
      "Index: 229 entries, 0 to 237\n",
      "Data columns (total 19 columns):\n",
      " #   Column                Non-Null Count  Dtype  \n",
      "---  ------                --------------  -----  \n",
      " 0   Category              229 non-null    int32  \n",
      " 1   GPU                   229 non-null    float64\n",
      " 2   OS                    229 non-null    int32  \n",
      " 3   CPU_core              229 non-null    float64\n",
      " 4   Screen_Size_cm        229 non-null    int32  \n",
      " 5   CPU_frequency         229 non-null    int32  \n",
      " 6   RAM_GB                229 non-null    float64\n",
      " 7   Storage_GB_SSD        229 non-null    float64\n",
      " 8   Manufacturer_Acer     229 non-null    int32  \n",
      " 9   Manufacturer_Asus     229 non-null    int32  \n",
      " 10  Manufacturer_Dell     229 non-null    int32  \n",
      " 11  Manufacturer_HP       229 non-null    int32  \n",
      " 12  Manufacturer_Huawei   229 non-null    int32  \n",
      " 13  Manufacturer_Lenovo   229 non-null    int32  \n",
      " 14  Manufacturer_MSI      229 non-null    int32  \n",
      " 15  Manufacturer_Razer    229 non-null    int32  \n",
      " 16  Manufacturer_Samsung  229 non-null    int32  \n",
      " 17  Manufacturer_Toshiba  229 non-null    int32  \n",
      " 18  Manufacturer_Xiaomi   229 non-null    int32  \n",
      "dtypes: float64(4), int32(15)\n",
      "memory usage: 22.4 KB\n",
      "<class 'pandas.core.series.Series'>\n",
      "Index: 229 entries, 0 to 237\n",
      "Series name: Price\n",
      "Non-Null Count  Dtype\n",
      "--------------  -----\n",
      "229 non-null    int32\n",
      "dtypes: int32(1)\n",
      "memory usage: 2.7 KB\n"
     ]
    }
   ],
   "source": [
    "X = laptop_data.drop(['Price','Weight_kg','Screen_IPS Panel','Screen_Full HD'],axis=1)\n",
    "y = laptop_data[\"Price\"]\n",
    "\n",
    "X.info()\n",
    "y.info()\n"
   ]
  },
  {
   "cell_type": "code",
   "execution_count": 284,
   "id": "81b07e3e",
   "metadata": {},
   "outputs": [
    {
     "name": "stdout",
     "output_type": "stream",
     "text": [
      "X_train - >   (210, 19)\n",
      "X_test - >   (19, 19)\n",
      "y_train - >   (210,)\n",
      "y_test - >   (19,)\n"
     ]
    }
   ],
   "source": [
    "from sklearn.model_selection import train_test_split\n",
    "X_train,X_test,y_train,y_test = train_test_split(X,y,test_size=0.08,random_state=42)\n",
    "\n",
    "print(\"X_train - >  \",X_train.shape)\n",
    "print(\"X_test - >  \",X_test.shape)\n",
    "print(\"y_train - >  \",y_train.shape)\n",
    "print(\"y_test - >  \",y_test.shape)"
   ]
  },
  {
   "cell_type": "markdown",
   "id": "625ce67b",
   "metadata": {},
   "source": [
    "# All Model Importing"
   ]
  },
  {
   "cell_type": "code",
   "execution_count": 285,
   "id": "e6fd8cd8",
   "metadata": {
    "scrolled": true
   },
   "outputs": [],
   "source": [
    "from sklearn.linear_model import LinearRegression\n",
    "from sklearn.ensemble import RandomForestRegressor, GradientBoostingRegressor\n",
    "from sklearn.tree import DecisionTreeRegressor\n",
    "\n",
    "from xgboost import XGBRegressor\n",
    "from catboost import CatBoostRegressor\n",
    "from lightgbm import LGBMRegressor\n",
    "\n",
    "from sklearn import metrics\n",
    "from sklearn.metrics import r2_score\n",
    "\n"
   ]
  },
  {
   "cell_type": "code",
   "execution_count": 286,
   "id": "d3d695a8",
   "metadata": {},
   "outputs": [
    {
     "name": "stdout",
     "output_type": "stream",
     "text": [
      "\n",
      "Model Name: Linear Regression\n",
      "RMSE for Linear Regression is: 333.50 (22.87%)\n",
      "The r2 Score of Linear Regression on training data is: 57.03700182539907\n",
      "The r2 Score of Linear Regression on testing data is: 64.79211536632826\n",
      "\n",
      "Model Name: Decision Tree\n",
      "RMSE for Decision Tree is: 472.30 (32.38%)\n",
      "The r2 Score of Decision Tree on training data is: 94.76760803230057\n",
      "The r2 Score of Decision Tree on testing data is: 29.38963151226075\n",
      "\n",
      "Model Name: Random Forest\n",
      "RMSE for Random Forest is: 393.42 (26.98%)\n",
      "The r2 Score of Random Forest on training data is: 90.49567145929907\n",
      "The r2 Score of Random Forest on testing data is: 51.0047177448324\n",
      "\n",
      "Model Name: Gradient Boost\n",
      "RMSE for Gradient Boost is: 364.96 (25.02%)\n",
      "The r2 Score of Gradient Boost on training data is: 84.36329259785944\n",
      "The r2 Score of Gradient Boost on testing data is: 57.8362467150279\n",
      "\n",
      "Model Name: XGBoost\n",
      "RMSE for XGBoost is: 399.88 (27.42%)\n",
      "The r2 Score of XGBoost on training data is: 94.64632557926332\n",
      "The r2 Score of XGBoost on testing data is: 49.381786186236035\n",
      "Learning rate set to 0.031996\n",
      "0:\tlearn: 568.5142097\ttotal: 144ms\tremaining: 2m 23s\n",
      "1:\tlearn: 562.0043352\ttotal: 145ms\tremaining: 1m 12s\n",
      "2:\tlearn: 556.1427233\ttotal: 145ms\tremaining: 48.3s\n",
      "3:\tlearn: 551.1519743\ttotal: 146ms\tremaining: 36.4s\n",
      "4:\tlearn: 546.0283124\ttotal: 147ms\tremaining: 29.2s\n",
      "5:\tlearn: 539.9936465\ttotal: 147ms\tremaining: 24.4s\n",
      "6:\tlearn: 534.9932410\ttotal: 148ms\tremaining: 21s\n",
      "7:\tlearn: 530.7089378\ttotal: 148ms\tremaining: 18.4s\n",
      "8:\tlearn: 526.3935147\ttotal: 149ms\tremaining: 16.4s\n",
      "9:\tlearn: 521.8566860\ttotal: 150ms\tremaining: 14.8s\n",
      "10:\tlearn: 519.7476370\ttotal: 150ms\tremaining: 13.5s\n",
      "11:\tlearn: 514.2348786\ttotal: 151ms\tremaining: 12.4s\n",
      "12:\tlearn: 510.7755094\ttotal: 151ms\tremaining: 11.5s\n",
      "13:\tlearn: 506.4187513\ttotal: 152ms\tremaining: 10.7s\n",
      "14:\tlearn: 502.1079816\ttotal: 152ms\tremaining: 9.99s\n",
      "15:\tlearn: 498.3506187\ttotal: 153ms\tremaining: 9.38s\n",
      "16:\tlearn: 494.3712499\ttotal: 153ms\tremaining: 8.85s\n",
      "17:\tlearn: 491.0425453\ttotal: 154ms\tremaining: 8.38s\n",
      "18:\tlearn: 487.6248738\ttotal: 154ms\tremaining: 7.96s\n",
      "19:\tlearn: 483.5827559\ttotal: 155ms\tremaining: 7.58s\n",
      "20:\tlearn: 480.6195069\ttotal: 155ms\tremaining: 7.23s\n",
      "21:\tlearn: 477.3419869\ttotal: 156ms\tremaining: 6.92s\n",
      "22:\tlearn: 473.3878650\ttotal: 156ms\tremaining: 6.63s\n",
      "23:\tlearn: 470.0297388\ttotal: 157ms\tremaining: 6.37s\n",
      "24:\tlearn: 466.3597641\ttotal: 157ms\tremaining: 6.13s\n",
      "25:\tlearn: 463.0557375\ttotal: 158ms\tremaining: 5.91s\n",
      "26:\tlearn: 459.9164648\ttotal: 158ms\tremaining: 5.71s\n",
      "27:\tlearn: 456.9045202\ttotal: 159ms\tremaining: 5.51s\n",
      "28:\tlearn: 453.4022065\ttotal: 159ms\tremaining: 5.33s\n",
      "29:\tlearn: 450.7501718\ttotal: 160ms\tremaining: 5.17s\n",
      "30:\tlearn: 447.7573885\ttotal: 161ms\tremaining: 5.02s\n",
      "31:\tlearn: 445.0444806\ttotal: 161ms\tremaining: 4.87s\n",
      "32:\tlearn: 441.9083083\ttotal: 162ms\tremaining: 4.74s\n",
      "33:\tlearn: 439.3484485\ttotal: 162ms\tremaining: 4.61s\n",
      "34:\tlearn: 437.3522873\ttotal: 163ms\tremaining: 4.5s\n",
      "35:\tlearn: 434.2126634\ttotal: 164ms\tremaining: 4.39s\n",
      "36:\tlearn: 431.6997098\ttotal: 165ms\tremaining: 4.29s\n",
      "37:\tlearn: 429.9108323\ttotal: 165ms\tremaining: 4.18s\n",
      "38:\tlearn: 426.9737384\ttotal: 166ms\tremaining: 4.09s\n",
      "39:\tlearn: 424.2981287\ttotal: 166ms\tremaining: 3.99s\n",
      "40:\tlearn: 421.0107268\ttotal: 167ms\tremaining: 3.9s\n",
      "41:\tlearn: 418.3400696\ttotal: 167ms\tremaining: 3.82s\n",
      "42:\tlearn: 416.3210659\ttotal: 168ms\tremaining: 3.74s\n",
      "43:\tlearn: 413.6636466\ttotal: 169ms\tremaining: 3.66s\n",
      "44:\tlearn: 412.0334846\ttotal: 170ms\tremaining: 3.61s\n",
      "45:\tlearn: 409.8817090\ttotal: 171ms\tremaining: 3.54s\n",
      "46:\tlearn: 407.6517834\ttotal: 171ms\tremaining: 3.47s\n",
      "47:\tlearn: 405.2970793\ttotal: 172ms\tremaining: 3.41s\n",
      "48:\tlearn: 403.1617734\ttotal: 172ms\tremaining: 3.35s\n",
      "49:\tlearn: 401.4283292\ttotal: 173ms\tremaining: 3.28s\n",
      "50:\tlearn: 399.5173408\ttotal: 173ms\tremaining: 3.23s\n",
      "51:\tlearn: 397.3028339\ttotal: 174ms\tremaining: 3.17s\n",
      "52:\tlearn: 395.2976699\ttotal: 174ms\tremaining: 3.12s\n",
      "53:\tlearn: 393.1238684\ttotal: 175ms\tremaining: 3.06s\n",
      "54:\tlearn: 391.6146992\ttotal: 176ms\tremaining: 3.02s\n",
      "55:\tlearn: 390.2870125\ttotal: 176ms\tremaining: 2.97s\n",
      "56:\tlearn: 388.2674362\ttotal: 177ms\tremaining: 2.92s\n",
      "57:\tlearn: 386.6518733\ttotal: 177ms\tremaining: 2.88s\n",
      "58:\tlearn: 385.0433744\ttotal: 178ms\tremaining: 2.83s\n",
      "59:\tlearn: 383.4714573\ttotal: 179ms\tremaining: 2.8s\n",
      "60:\tlearn: 382.1857762\ttotal: 179ms\tremaining: 2.76s\n",
      "61:\tlearn: 380.5655130\ttotal: 180ms\tremaining: 2.72s\n",
      "62:\tlearn: 379.0253848\ttotal: 180ms\tremaining: 2.68s\n",
      "63:\tlearn: 377.4765588\ttotal: 181ms\tremaining: 2.65s\n",
      "64:\tlearn: 375.6143610\ttotal: 181ms\tremaining: 2.61s\n",
      "65:\tlearn: 374.1047062\ttotal: 182ms\tremaining: 2.57s\n",
      "66:\tlearn: 373.1432337\ttotal: 182ms\tremaining: 2.54s\n",
      "67:\tlearn: 371.4795504\ttotal: 183ms\tremaining: 2.5s\n",
      "68:\tlearn: 370.2477226\ttotal: 183ms\tremaining: 2.47s\n",
      "69:\tlearn: 368.6166923\ttotal: 184ms\tremaining: 2.44s\n",
      "70:\tlearn: 366.9159677\ttotal: 184ms\tremaining: 2.41s\n",
      "71:\tlearn: 365.1029446\ttotal: 185ms\tremaining: 2.38s\n",
      "72:\tlearn: 364.0325859\ttotal: 185ms\tremaining: 2.35s\n",
      "73:\tlearn: 362.2319734\ttotal: 186ms\tremaining: 2.32s\n",
      "74:\tlearn: 360.1746387\ttotal: 186ms\tremaining: 2.3s\n",
      "75:\tlearn: 358.8183069\ttotal: 187ms\tremaining: 2.27s\n",
      "76:\tlearn: 357.0735114\ttotal: 188ms\tremaining: 2.25s\n",
      "77:\tlearn: 355.6760535\ttotal: 189ms\tremaining: 2.23s\n",
      "78:\tlearn: 354.6695149\ttotal: 190ms\tremaining: 2.21s\n",
      "79:\tlearn: 352.7062525\ttotal: 191ms\tremaining: 2.19s\n",
      "80:\tlearn: 351.5610843\ttotal: 191ms\tremaining: 2.17s\n",
      "81:\tlearn: 350.3653016\ttotal: 192ms\tremaining: 2.14s\n",
      "82:\tlearn: 349.1826622\ttotal: 192ms\tremaining: 2.12s\n",
      "83:\tlearn: 347.7729403\ttotal: 193ms\tremaining: 2.1s\n",
      "84:\tlearn: 346.7892076\ttotal: 193ms\tremaining: 2.08s\n",
      "85:\tlearn: 346.1377728\ttotal: 193ms\tremaining: 2.06s\n",
      "86:\tlearn: 344.7789139\ttotal: 194ms\tremaining: 2.04s\n",
      "87:\tlearn: 343.9422713\ttotal: 195ms\tremaining: 2.02s\n",
      "88:\tlearn: 342.8027366\ttotal: 195ms\tremaining: 2s\n",
      "89:\tlearn: 341.7069478\ttotal: 196ms\tremaining: 1.99s\n",
      "90:\tlearn: 340.6123903\ttotal: 197ms\tremaining: 1.97s\n",
      "91:\tlearn: 339.3566695\ttotal: 198ms\tremaining: 1.95s\n",
      "92:\tlearn: 337.8670579\ttotal: 198ms\tremaining: 1.93s\n",
      "93:\tlearn: 336.9380179\ttotal: 199ms\tremaining: 1.92s\n",
      "94:\tlearn: 335.9035245\ttotal: 199ms\tremaining: 1.9s\n",
      "95:\tlearn: 334.4275731\ttotal: 200ms\tremaining: 1.88s\n",
      "96:\tlearn: 333.4458317\ttotal: 200ms\tremaining: 1.87s\n",
      "97:\tlearn: 332.6586864\ttotal: 201ms\tremaining: 1.85s\n",
      "98:\tlearn: 331.2465256\ttotal: 202ms\tremaining: 1.83s\n",
      "99:\tlearn: 330.4022408\ttotal: 202ms\tremaining: 1.82s\n",
      "100:\tlearn: 329.5151032\ttotal: 203ms\tremaining: 1.81s\n",
      "101:\tlearn: 328.7776106\ttotal: 204ms\tremaining: 1.79s\n",
      "102:\tlearn: 327.9961498\ttotal: 204ms\tremaining: 1.78s\n",
      "103:\tlearn: 326.6543909\ttotal: 205ms\tremaining: 1.77s\n",
      "104:\tlearn: 325.7078885\ttotal: 206ms\tremaining: 1.75s\n",
      "105:\tlearn: 324.7245222\ttotal: 206ms\tremaining: 1.74s\n",
      "106:\tlearn: 323.8530987\ttotal: 207ms\tremaining: 1.73s\n",
      "107:\tlearn: 322.1760576\ttotal: 207ms\tremaining: 1.71s\n",
      "108:\tlearn: 321.0563261\ttotal: 208ms\tremaining: 1.7s\n",
      "109:\tlearn: 320.6685014\ttotal: 209ms\tremaining: 1.69s\n",
      "110:\tlearn: 319.7930459\ttotal: 210ms\tremaining: 1.68s\n",
      "111:\tlearn: 318.7389730\ttotal: 211ms\tremaining: 1.67s\n",
      "112:\tlearn: 317.7015460\ttotal: 211ms\tremaining: 1.66s\n",
      "113:\tlearn: 317.1955536\ttotal: 212ms\tremaining: 1.65s\n",
      "114:\tlearn: 315.7092713\ttotal: 212ms\tremaining: 1.63s\n",
      "115:\tlearn: 314.4458182\ttotal: 213ms\tremaining: 1.62s\n",
      "116:\tlearn: 313.5215854\ttotal: 213ms\tremaining: 1.61s\n",
      "117:\tlearn: 312.8083255\ttotal: 214ms\tremaining: 1.6s\n",
      "118:\tlearn: 312.0221618\ttotal: 214ms\tremaining: 1.59s\n",
      "119:\tlearn: 311.6302777\ttotal: 215ms\tremaining: 1.57s\n",
      "120:\tlearn: 310.8041190\ttotal: 215ms\tremaining: 1.56s\n",
      "121:\tlearn: 310.1087706\ttotal: 216ms\tremaining: 1.55s\n",
      "122:\tlearn: 309.3161318\ttotal: 216ms\tremaining: 1.54s\n",
      "123:\tlearn: 308.5949909\ttotal: 217ms\tremaining: 1.53s\n",
      "124:\tlearn: 307.6422833\ttotal: 217ms\tremaining: 1.52s\n",
      "125:\tlearn: 307.1258170\ttotal: 218ms\tremaining: 1.51s\n",
      "126:\tlearn: 306.4141677\ttotal: 218ms\tremaining: 1.5s\n",
      "127:\tlearn: 305.7527869\ttotal: 219ms\tremaining: 1.49s\n",
      "128:\tlearn: 304.9046748\ttotal: 220ms\tremaining: 1.48s\n",
      "129:\tlearn: 304.3368059\ttotal: 220ms\tremaining: 1.47s\n",
      "130:\tlearn: 304.0395045\ttotal: 221ms\tremaining: 1.46s\n",
      "131:\tlearn: 303.0356313\ttotal: 221ms\tremaining: 1.45s\n",
      "132:\tlearn: 301.6683523\ttotal: 226ms\tremaining: 1.48s\n",
      "133:\tlearn: 300.8091016\ttotal: 227ms\tremaining: 1.47s\n",
      "134:\tlearn: 300.1010086\ttotal: 234ms\tremaining: 1.5s\n",
      "135:\tlearn: 299.3742460\ttotal: 235ms\tremaining: 1.49s\n",
      "136:\tlearn: 298.8081331\ttotal: 236ms\tremaining: 1.49s\n",
      "137:\tlearn: 298.1187506\ttotal: 237ms\tremaining: 1.48s\n",
      "138:\tlearn: 297.0955314\ttotal: 237ms\tremaining: 1.47s\n",
      "139:\tlearn: 296.9804535\ttotal: 238ms\tremaining: 1.46s\n",
      "140:\tlearn: 296.3454491\ttotal: 238ms\tremaining: 1.45s\n",
      "141:\tlearn: 295.7384345\ttotal: 239ms\tremaining: 1.44s\n",
      "142:\tlearn: 295.1388078\ttotal: 239ms\tremaining: 1.44s\n",
      "143:\tlearn: 294.2345599\ttotal: 240ms\tremaining: 1.43s\n",
      "144:\tlearn: 293.4463569\ttotal: 241ms\tremaining: 1.42s\n",
      "145:\tlearn: 292.7429806\ttotal: 242ms\tremaining: 1.41s\n",
      "146:\tlearn: 292.1040251\ttotal: 243ms\tremaining: 1.41s\n",
      "147:\tlearn: 291.5806613\ttotal: 244ms\tremaining: 1.41s\n",
      "148:\tlearn: 290.9475191\ttotal: 246ms\tremaining: 1.4s\n",
      "149:\tlearn: 290.4495266\ttotal: 246ms\tremaining: 1.4s\n",
      "150:\tlearn: 289.8615503\ttotal: 247ms\tremaining: 1.39s\n",
      "151:\tlearn: 288.6609066\ttotal: 248ms\tremaining: 1.38s\n",
      "152:\tlearn: 288.1085089\ttotal: 249ms\tremaining: 1.38s\n",
      "153:\tlearn: 287.4720475\ttotal: 250ms\tremaining: 1.37s\n",
      "154:\tlearn: 286.9480141\ttotal: 251ms\tremaining: 1.37s\n",
      "155:\tlearn: 286.7149046\ttotal: 252ms\tremaining: 1.36s\n",
      "156:\tlearn: 286.2272639\ttotal: 253ms\tremaining: 1.36s\n",
      "157:\tlearn: 285.3892898\ttotal: 254ms\tremaining: 1.35s\n",
      "158:\tlearn: 285.3164671\ttotal: 254ms\tremaining: 1.34s\n",
      "159:\tlearn: 285.0338957\ttotal: 257ms\tremaining: 1.35s\n",
      "160:\tlearn: 284.8937379\ttotal: 257ms\tremaining: 1.34s\n",
      "161:\tlearn: 284.0340534\ttotal: 259ms\tremaining: 1.34s\n",
      "162:\tlearn: 283.4115314\ttotal: 260ms\tremaining: 1.34s\n",
      "163:\tlearn: 283.1705794\ttotal: 261ms\tremaining: 1.33s\n",
      "164:\tlearn: 282.3165522\ttotal: 261ms\tremaining: 1.32s\n",
      "165:\tlearn: 281.8227816\ttotal: 262ms\tremaining: 1.32s\n",
      "166:\tlearn: 281.2740342\ttotal: 263ms\tremaining: 1.31s\n",
      "167:\tlearn: 280.3007032\ttotal: 263ms\tremaining: 1.3s\n",
      "168:\tlearn: 279.7243539\ttotal: 264ms\tremaining: 1.3s\n",
      "169:\tlearn: 279.3180570\ttotal: 264ms\tremaining: 1.29s\n",
      "170:\tlearn: 279.1274770\ttotal: 265ms\tremaining: 1.28s\n",
      "171:\tlearn: 278.4914744\ttotal: 267ms\tremaining: 1.28s\n",
      "172:\tlearn: 277.6835468\ttotal: 268ms\tremaining: 1.28s\n",
      "173:\tlearn: 277.2825226\ttotal: 269ms\tremaining: 1.27s\n",
      "174:\tlearn: 276.7988049\ttotal: 269ms\tremaining: 1.27s\n",
      "175:\tlearn: 275.9858960\ttotal: 270ms\tremaining: 1.26s\n",
      "176:\tlearn: 275.5144322\ttotal: 271ms\tremaining: 1.26s\n",
      "177:\tlearn: 274.8236087\ttotal: 272ms\tremaining: 1.25s\n",
      "178:\tlearn: 274.0615508\ttotal: 272ms\tremaining: 1.25s\n",
      "179:\tlearn: 273.6848880\ttotal: 273ms\tremaining: 1.24s\n",
      "180:\tlearn: 273.0770518\ttotal: 273ms\tremaining: 1.24s\n",
      "181:\tlearn: 272.7074686\ttotal: 274ms\tremaining: 1.23s\n",
      "182:\tlearn: 272.3061228\ttotal: 274ms\tremaining: 1.22s\n",
      "183:\tlearn: 271.7294850\ttotal: 275ms\tremaining: 1.22s\n",
      "184:\tlearn: 271.0111093\ttotal: 276ms\tremaining: 1.21s\n",
      "185:\tlearn: 270.4545098\ttotal: 276ms\tremaining: 1.21s\n",
      "186:\tlearn: 269.9934518\ttotal: 277ms\tremaining: 1.2s\n",
      "187:\tlearn: 269.4257652\ttotal: 277ms\tremaining: 1.2s\n",
      "188:\tlearn: 268.6903135\ttotal: 278ms\tremaining: 1.19s\n",
      "189:\tlearn: 268.1719549\ttotal: 278ms\tremaining: 1.19s\n",
      "190:\tlearn: 267.4342254\ttotal: 279ms\tremaining: 1.18s\n",
      "191:\tlearn: 267.0858153\ttotal: 279ms\tremaining: 1.18s\n",
      "192:\tlearn: 266.7105346\ttotal: 280ms\tremaining: 1.17s\n",
      "193:\tlearn: 266.1861185\ttotal: 280ms\tremaining: 1.16s\n",
      "194:\tlearn: 265.5814120\ttotal: 281ms\tremaining: 1.16s\n",
      "195:\tlearn: 265.2000079\ttotal: 281ms\tremaining: 1.15s\n",
      "196:\tlearn: 264.7794138\ttotal: 282ms\tremaining: 1.15s\n",
      "197:\tlearn: 263.7572832\ttotal: 283ms\tremaining: 1.15s\n",
      "198:\tlearn: 263.2687417\ttotal: 284ms\tremaining: 1.14s\n",
      "199:\tlearn: 262.6635363\ttotal: 285ms\tremaining: 1.14s\n",
      "200:\tlearn: 262.0785595\ttotal: 285ms\tremaining: 1.13s\n",
      "201:\tlearn: 261.7255481\ttotal: 286ms\tremaining: 1.13s\n",
      "202:\tlearn: 261.2566118\ttotal: 286ms\tremaining: 1.12s\n",
      "203:\tlearn: 260.8302526\ttotal: 287ms\tremaining: 1.12s\n",
      "204:\tlearn: 260.4978953\ttotal: 287ms\tremaining: 1.11s\n",
      "205:\tlearn: 260.2090961\ttotal: 288ms\tremaining: 1.11s\n",
      "206:\tlearn: 259.8714410\ttotal: 288ms\tremaining: 1.1s\n",
      "207:\tlearn: 259.4505597\ttotal: 289ms\tremaining: 1.1s\n",
      "208:\tlearn: 259.1090648\ttotal: 290ms\tremaining: 1.09s\n",
      "209:\tlearn: 258.7717705\ttotal: 290ms\tremaining: 1.09s\n",
      "210:\tlearn: 258.2184755\ttotal: 291ms\tremaining: 1.09s\n",
      "211:\tlearn: 257.9160406\ttotal: 291ms\tremaining: 1.08s\n",
      "212:\tlearn: 257.5799982\ttotal: 292ms\tremaining: 1.08s\n",
      "213:\tlearn: 256.9661385\ttotal: 292ms\tremaining: 1.07s\n",
      "214:\tlearn: 256.6798207\ttotal: 293ms\tremaining: 1.07s\n",
      "215:\tlearn: 256.1220980\ttotal: 294ms\tremaining: 1.06s\n",
      "216:\tlearn: 255.2127366\ttotal: 294ms\tremaining: 1.06s\n",
      "217:\tlearn: 254.6147163\ttotal: 295ms\tremaining: 1.06s\n",
      "218:\tlearn: 254.2454892\ttotal: 296ms\tremaining: 1.05s\n",
      "219:\tlearn: 253.7933525\ttotal: 296ms\tremaining: 1.05s\n",
      "220:\tlearn: 253.2829976\ttotal: 297ms\tremaining: 1.04s\n",
      "221:\tlearn: 252.8496351\ttotal: 297ms\tremaining: 1.04s\n",
      "222:\tlearn: 252.4859068\ttotal: 298ms\tremaining: 1.04s\n",
      "223:\tlearn: 252.2427048\ttotal: 299ms\tremaining: 1.03s\n",
      "224:\tlearn: 252.0395905\ttotal: 299ms\tremaining: 1.03s\n",
      "225:\tlearn: 251.7260752\ttotal: 300ms\tremaining: 1.03s\n",
      "226:\tlearn: 251.0384089\ttotal: 300ms\tremaining: 1.02s\n",
      "227:\tlearn: 250.5137694\ttotal: 301ms\tremaining: 1.02s\n",
      "228:\tlearn: 250.2427949\ttotal: 301ms\tremaining: 1.01s\n",
      "229:\tlearn: 249.7714032\ttotal: 302ms\tremaining: 1.01s\n",
      "230:\tlearn: 249.3862258\ttotal: 302ms\tremaining: 1s\n",
      "231:\tlearn: 249.1018182\ttotal: 303ms\tremaining: 1s\n",
      "232:\tlearn: 248.8420622\ttotal: 303ms\tremaining: 999ms\n"
     ]
    },
    {
     "name": "stdout",
     "output_type": "stream",
     "text": [
      "233:\tlearn: 248.5523697\ttotal: 307ms\tremaining: 1s\n",
      "234:\tlearn: 248.3343014\ttotal: 308ms\tremaining: 1s\n",
      "235:\tlearn: 248.0051250\ttotal: 309ms\tremaining: 1s\n",
      "236:\tlearn: 247.3123666\ttotal: 310ms\tremaining: 997ms\n",
      "237:\tlearn: 246.6651207\ttotal: 310ms\tremaining: 994ms\n",
      "238:\tlearn: 246.2223137\ttotal: 311ms\tremaining: 991ms\n",
      "239:\tlearn: 245.8740042\ttotal: 312ms\tremaining: 988ms\n",
      "240:\tlearn: 245.2470917\ttotal: 312ms\tremaining: 984ms\n",
      "241:\tlearn: 245.0461794\ttotal: 313ms\tremaining: 980ms\n",
      "242:\tlearn: 244.9594728\ttotal: 314ms\tremaining: 977ms\n",
      "243:\tlearn: 244.7496169\ttotal: 314ms\tremaining: 973ms\n",
      "244:\tlearn: 244.4273064\ttotal: 315ms\tremaining: 969ms\n",
      "245:\tlearn: 243.7555656\ttotal: 315ms\tremaining: 966ms\n",
      "246:\tlearn: 243.4997164\ttotal: 316ms\tremaining: 962ms\n",
      "247:\tlearn: 243.2253839\ttotal: 316ms\tremaining: 958ms\n",
      "248:\tlearn: 242.6301787\ttotal: 316ms\tremaining: 955ms\n",
      "249:\tlearn: 242.4031401\ttotal: 317ms\tremaining: 951ms\n",
      "250:\tlearn: 241.7671764\ttotal: 317ms\tremaining: 947ms\n",
      "251:\tlearn: 241.2933293\ttotal: 318ms\tremaining: 944ms\n",
      "252:\tlearn: 241.0721856\ttotal: 318ms\tremaining: 940ms\n",
      "253:\tlearn: 240.7104806\ttotal: 319ms\tremaining: 937ms\n",
      "254:\tlearn: 240.3024857\ttotal: 320ms\tremaining: 935ms\n",
      "255:\tlearn: 239.7345693\ttotal: 321ms\tremaining: 932ms\n",
      "256:\tlearn: 239.5591448\ttotal: 322ms\tremaining: 930ms\n",
      "257:\tlearn: 239.0163689\ttotal: 322ms\tremaining: 926ms\n",
      "258:\tlearn: 238.6779622\ttotal: 323ms\tremaining: 923ms\n",
      "259:\tlearn: 238.3812962\ttotal: 323ms\tremaining: 920ms\n",
      "260:\tlearn: 238.1699028\ttotal: 324ms\tremaining: 916ms\n",
      "261:\tlearn: 237.9704831\ttotal: 324ms\tremaining: 913ms\n",
      "262:\tlearn: 237.6011934\ttotal: 325ms\tremaining: 912ms\n",
      "263:\tlearn: 237.4401740\ttotal: 326ms\tremaining: 909ms\n",
      "264:\tlearn: 237.2515880\ttotal: 326ms\tremaining: 905ms\n",
      "265:\tlearn: 236.9540262\ttotal: 327ms\tremaining: 902ms\n",
      "266:\tlearn: 236.8421692\ttotal: 327ms\tremaining: 899ms\n",
      "267:\tlearn: 236.6468066\ttotal: 328ms\tremaining: 895ms\n",
      "268:\tlearn: 236.4508758\ttotal: 328ms\tremaining: 892ms\n",
      "269:\tlearn: 236.2693823\ttotal: 329ms\tremaining: 889ms\n",
      "270:\tlearn: 236.0418590\ttotal: 330ms\tremaining: 887ms\n",
      "271:\tlearn: 235.7380515\ttotal: 330ms\tremaining: 884ms\n",
      "272:\tlearn: 235.5592341\ttotal: 331ms\tremaining: 882ms\n",
      "273:\tlearn: 235.3874474\ttotal: 332ms\tremaining: 880ms\n",
      "274:\tlearn: 235.0590691\ttotal: 333ms\tremaining: 877ms\n",
      "275:\tlearn: 234.8280310\ttotal: 333ms\tremaining: 874ms\n",
      "276:\tlearn: 234.4233084\ttotal: 335ms\tremaining: 873ms\n",
      "277:\tlearn: 234.2693879\ttotal: 335ms\tremaining: 870ms\n",
      "278:\tlearn: 234.1043697\ttotal: 336ms\tremaining: 867ms\n",
      "279:\tlearn: 233.9866019\ttotal: 336ms\tremaining: 864ms\n",
      "280:\tlearn: 233.6523524\ttotal: 337ms\tremaining: 862ms\n",
      "281:\tlearn: 233.4519443\ttotal: 338ms\tremaining: 860ms\n",
      "282:\tlearn: 233.2386559\ttotal: 339ms\tremaining: 858ms\n",
      "283:\tlearn: 233.0907760\ttotal: 339ms\tremaining: 855ms\n",
      "284:\tlearn: 232.7698960\ttotal: 340ms\tremaining: 852ms\n",
      "285:\tlearn: 232.5804363\ttotal: 340ms\tremaining: 849ms\n",
      "286:\tlearn: 232.2531645\ttotal: 341ms\tremaining: 846ms\n",
      "287:\tlearn: 232.1138481\ttotal: 341ms\tremaining: 843ms\n",
      "288:\tlearn: 231.9705054\ttotal: 341ms\tremaining: 840ms\n",
      "289:\tlearn: 231.8303271\ttotal: 342ms\tremaining: 837ms\n",
      "290:\tlearn: 231.5528197\ttotal: 342ms\tremaining: 834ms\n",
      "291:\tlearn: 231.3910530\ttotal: 343ms\tremaining: 833ms\n",
      "292:\tlearn: 231.2487434\ttotal: 344ms\tremaining: 830ms\n",
      "293:\tlearn: 231.1093369\ttotal: 345ms\tremaining: 828ms\n",
      "294:\tlearn: 230.4768635\ttotal: 345ms\tremaining: 825ms\n",
      "295:\tlearn: 230.3285269\ttotal: 346ms\tremaining: 822ms\n",
      "296:\tlearn: 230.0298835\ttotal: 346ms\tremaining: 819ms\n",
      "297:\tlearn: 229.8268076\ttotal: 346ms\tremaining: 816ms\n",
      "298:\tlearn: 229.5264414\ttotal: 347ms\tremaining: 813ms\n",
      "299:\tlearn: 229.3002049\ttotal: 347ms\tremaining: 811ms\n",
      "300:\tlearn: 229.1355073\ttotal: 348ms\tremaining: 808ms\n",
      "301:\tlearn: 229.0061891\ttotal: 348ms\tremaining: 805ms\n",
      "302:\tlearn: 228.8140025\ttotal: 349ms\tremaining: 803ms\n",
      "303:\tlearn: 228.4068503\ttotal: 350ms\tremaining: 801ms\n",
      "304:\tlearn: 228.2455796\ttotal: 350ms\tremaining: 798ms\n",
      "305:\tlearn: 227.8782119\ttotal: 351ms\tremaining: 796ms\n",
      "306:\tlearn: 227.3071162\ttotal: 352ms\tremaining: 794ms\n",
      "307:\tlearn: 227.1828530\ttotal: 352ms\tremaining: 791ms\n",
      "308:\tlearn: 227.0322351\ttotal: 353ms\tremaining: 788ms\n",
      "309:\tlearn: 226.7723641\ttotal: 353ms\tremaining: 786ms\n",
      "310:\tlearn: 226.6490102\ttotal: 354ms\tremaining: 783ms\n",
      "311:\tlearn: 226.5305169\ttotal: 354ms\tremaining: 781ms\n",
      "312:\tlearn: 226.1214035\ttotal: 355ms\tremaining: 778ms\n",
      "313:\tlearn: 226.0043497\ttotal: 355ms\tremaining: 776ms\n",
      "314:\tlearn: 225.8354502\ttotal: 355ms\tremaining: 773ms\n",
      "315:\tlearn: 225.2971183\ttotal: 356ms\tremaining: 770ms\n",
      "316:\tlearn: 225.1742032\ttotal: 356ms\tremaining: 768ms\n",
      "317:\tlearn: 224.8596793\ttotal: 357ms\tremaining: 765ms\n",
      "318:\tlearn: 224.7487720\ttotal: 357ms\tremaining: 763ms\n",
      "319:\tlearn: 224.4881312\ttotal: 358ms\tremaining: 760ms\n",
      "320:\tlearn: 224.3338412\ttotal: 358ms\tremaining: 757ms\n",
      "321:\tlearn: 224.1821286\ttotal: 359ms\tremaining: 755ms\n",
      "322:\tlearn: 224.0650395\ttotal: 359ms\tremaining: 752ms\n",
      "323:\tlearn: 223.9604865\ttotal: 360ms\tremaining: 750ms\n",
      "324:\tlearn: 223.7492360\ttotal: 361ms\tremaining: 749ms\n",
      "325:\tlearn: 223.4428899\ttotal: 362ms\tremaining: 747ms\n",
      "326:\tlearn: 223.2277392\ttotal: 362ms\tremaining: 745ms\n",
      "327:\tlearn: 223.1308304\ttotal: 363ms\tremaining: 743ms\n",
      "328:\tlearn: 222.9882238\ttotal: 363ms\tremaining: 741ms\n",
      "329:\tlearn: 222.8908780\ttotal: 364ms\tremaining: 739ms\n",
      "330:\tlearn: 222.7828135\ttotal: 365ms\tremaining: 737ms\n",
      "331:\tlearn: 222.5960380\ttotal: 365ms\tremaining: 735ms\n",
      "332:\tlearn: 222.4957641\ttotal: 366ms\tremaining: 733ms\n",
      "333:\tlearn: 222.3724218\ttotal: 367ms\tremaining: 731ms\n",
      "334:\tlearn: 222.2427532\ttotal: 367ms\tremaining: 729ms\n",
      "335:\tlearn: 221.9353422\ttotal: 368ms\tremaining: 727ms\n",
      "336:\tlearn: 221.8452651\ttotal: 368ms\tremaining: 725ms\n",
      "337:\tlearn: 221.6218867\ttotal: 369ms\tremaining: 722ms\n",
      "338:\tlearn: 221.4071294\ttotal: 369ms\tremaining: 720ms\n",
      "339:\tlearn: 221.1235136\ttotal: 370ms\tremaining: 718ms\n",
      "340:\tlearn: 221.0362244\ttotal: 370ms\tremaining: 716ms\n",
      "341:\tlearn: 220.7607698\ttotal: 371ms\tremaining: 713ms\n",
      "342:\tlearn: 220.5811530\ttotal: 371ms\tremaining: 711ms\n",
      "343:\tlearn: 220.4769490\ttotal: 372ms\tremaining: 709ms\n",
      "344:\tlearn: 220.2486640\ttotal: 372ms\tremaining: 707ms\n",
      "345:\tlearn: 220.1462116\ttotal: 373ms\tremaining: 705ms\n",
      "346:\tlearn: 219.6653762\ttotal: 373ms\tremaining: 702ms\n",
      "347:\tlearn: 219.2894529\ttotal: 374ms\tremaining: 700ms\n",
      "348:\tlearn: 219.0890310\ttotal: 374ms\tremaining: 698ms\n",
      "349:\tlearn: 219.0117396\ttotal: 375ms\tremaining: 696ms\n",
      "350:\tlearn: 218.7892937\ttotal: 375ms\tremaining: 694ms\n",
      "351:\tlearn: 218.4974865\ttotal: 376ms\tremaining: 692ms\n",
      "352:\tlearn: 218.0104169\ttotal: 376ms\tremaining: 689ms\n",
      "353:\tlearn: 217.5472981\ttotal: 377ms\tremaining: 687ms\n",
      "354:\tlearn: 217.4388300\ttotal: 377ms\tremaining: 686ms\n",
      "355:\tlearn: 217.2425580\ttotal: 378ms\tremaining: 684ms\n",
      "356:\tlearn: 217.1620150\ttotal: 378ms\tremaining: 682ms\n",
      "357:\tlearn: 217.0661778\ttotal: 379ms\tremaining: 680ms\n",
      "358:\tlearn: 216.9615647\ttotal: 380ms\tremaining: 678ms\n",
      "359:\tlearn: 216.8951795\ttotal: 380ms\tremaining: 676ms\n",
      "360:\tlearn: 216.8011914\ttotal: 381ms\tremaining: 674ms\n",
      "361:\tlearn: 216.6386937\ttotal: 381ms\tremaining: 672ms\n",
      "362:\tlearn: 216.4493561\ttotal: 382ms\tremaining: 670ms\n",
      "363:\tlearn: 215.9525912\ttotal: 382ms\tremaining: 668ms\n",
      "364:\tlearn: 215.4754202\ttotal: 383ms\tremaining: 666ms\n",
      "365:\tlearn: 214.9540004\ttotal: 384ms\tremaining: 664ms\n",
      "366:\tlearn: 214.6011436\ttotal: 384ms\tremaining: 662ms\n",
      "367:\tlearn: 214.0990053\ttotal: 385ms\tremaining: 660ms\n",
      "368:\tlearn: 213.6837712\ttotal: 385ms\tremaining: 658ms\n",
      "369:\tlearn: 213.5963656\ttotal: 386ms\tremaining: 656ms\n",
      "370:\tlearn: 213.4154301\ttotal: 386ms\tremaining: 654ms\n",
      "371:\tlearn: 212.9327270\ttotal: 387ms\tremaining: 653ms\n",
      "372:\tlearn: 212.5024545\ttotal: 388ms\tremaining: 652ms\n",
      "373:\tlearn: 212.1972502\ttotal: 388ms\tremaining: 650ms\n",
      "374:\tlearn: 211.8615306\ttotal: 389ms\tremaining: 648ms\n",
      "375:\tlearn: 211.6283733\ttotal: 390ms\tremaining: 647ms\n",
      "376:\tlearn: 211.5320077\ttotal: 390ms\tremaining: 645ms\n",
      "377:\tlearn: 211.1007779\ttotal: 391ms\tremaining: 643ms\n",
      "378:\tlearn: 210.8164723\ttotal: 392ms\tremaining: 642ms\n",
      "379:\tlearn: 210.4054442\ttotal: 392ms\tremaining: 640ms\n",
      "380:\tlearn: 210.1177687\ttotal: 393ms\tremaining: 638ms\n",
      "381:\tlearn: 209.9040430\ttotal: 393ms\tremaining: 636ms\n",
      "382:\tlearn: 209.5532015\ttotal: 394ms\tremaining: 634ms\n",
      "383:\tlearn: 209.4937190\ttotal: 394ms\tremaining: 632ms\n",
      "384:\tlearn: 209.3341564\ttotal: 395ms\tremaining: 631ms\n",
      "385:\tlearn: 208.9985744\ttotal: 395ms\tremaining: 629ms\n",
      "386:\tlearn: 208.6093927\ttotal: 396ms\tremaining: 627ms\n",
      "387:\tlearn: 208.5129796\ttotal: 396ms\tremaining: 625ms\n",
      "388:\tlearn: 208.1725909\ttotal: 397ms\tremaining: 623ms\n",
      "389:\tlearn: 208.1062357\ttotal: 397ms\tremaining: 621ms\n",
      "390:\tlearn: 207.9635023\ttotal: 398ms\tremaining: 619ms\n",
      "391:\tlearn: 207.8875629\ttotal: 398ms\tremaining: 618ms\n",
      "392:\tlearn: 207.6883346\ttotal: 399ms\tremaining: 616ms\n",
      "393:\tlearn: 207.5575771\ttotal: 399ms\tremaining: 614ms\n",
      "394:\tlearn: 207.3277421\ttotal: 400ms\tremaining: 612ms\n",
      "395:\tlearn: 206.9399884\ttotal: 400ms\tremaining: 611ms\n",
      "396:\tlearn: 206.8121039\ttotal: 401ms\tremaining: 609ms\n",
      "397:\tlearn: 206.4819183\ttotal: 402ms\tremaining: 607ms\n",
      "398:\tlearn: 206.2929889\ttotal: 402ms\tremaining: 606ms\n",
      "399:\tlearn: 206.0319105\ttotal: 403ms\tremaining: 605ms\n",
      "400:\tlearn: 205.8338987\ttotal: 404ms\tremaining: 604ms\n",
      "401:\tlearn: 205.7231124\ttotal: 405ms\tremaining: 603ms\n",
      "402:\tlearn: 205.5588998\ttotal: 406ms\tremaining: 601ms\n",
      "403:\tlearn: 205.4157507\ttotal: 407ms\tremaining: 600ms\n",
      "404:\tlearn: 205.2313767\ttotal: 407ms\tremaining: 598ms\n",
      "405:\tlearn: 205.1221397\ttotal: 408ms\tremaining: 596ms\n",
      "406:\tlearn: 205.0539170\ttotal: 408ms\tremaining: 595ms\n",
      "407:\tlearn: 204.7367855\ttotal: 409ms\tremaining: 593ms\n",
      "408:\tlearn: 204.4447862\ttotal: 409ms\tremaining: 591ms\n",
      "409:\tlearn: 204.1680453\ttotal: 411ms\tremaining: 591ms\n",
      "410:\tlearn: 204.0091738\ttotal: 412ms\tremaining: 591ms\n",
      "411:\tlearn: 203.8618857\ttotal: 414ms\tremaining: 590ms\n",
      "412:\tlearn: 203.7968937\ttotal: 414ms\tremaining: 589ms\n",
      "413:\tlearn: 203.6028896\ttotal: 415ms\tremaining: 588ms\n",
      "414:\tlearn: 203.5200781\ttotal: 416ms\tremaining: 586ms\n",
      "415:\tlearn: 203.3287480\ttotal: 416ms\tremaining: 585ms\n",
      "416:\tlearn: 203.0391274\ttotal: 417ms\tremaining: 583ms\n",
      "417:\tlearn: 202.9573947\ttotal: 417ms\tremaining: 581ms\n",
      "418:\tlearn: 202.7725176\ttotal: 418ms\tremaining: 580ms\n",
      "419:\tlearn: 202.5035184\ttotal: 419ms\tremaining: 578ms\n",
      "420:\tlearn: 202.1857571\ttotal: 419ms\tremaining: 577ms\n",
      "421:\tlearn: 202.1284263\ttotal: 420ms\tremaining: 575ms\n",
      "422:\tlearn: 201.9874400\ttotal: 420ms\tremaining: 573ms\n",
      "423:\tlearn: 201.7728788\ttotal: 421ms\tremaining: 572ms\n",
      "424:\tlearn: 201.5440674\ttotal: 421ms\tremaining: 570ms\n",
      "425:\tlearn: 201.3646468\ttotal: 422ms\tremaining: 568ms\n",
      "426:\tlearn: 201.0347244\ttotal: 422ms\tremaining: 567ms\n",
      "427:\tlearn: 200.8871317\ttotal: 423ms\tremaining: 565ms\n",
      "428:\tlearn: 200.6293075\ttotal: 423ms\tremaining: 564ms\n",
      "429:\tlearn: 200.4709472\ttotal: 424ms\tremaining: 562ms\n",
      "430:\tlearn: 200.1885058\ttotal: 424ms\tremaining: 560ms\n",
      "431:\tlearn: 200.1271071\ttotal: 426ms\tremaining: 560ms\n",
      "432:\tlearn: 200.0458152\ttotal: 428ms\tremaining: 560ms\n",
      "433:\tlearn: 199.9912613\ttotal: 429ms\tremaining: 559ms\n",
      "434:\tlearn: 199.8006081\ttotal: 429ms\tremaining: 557ms\n",
      "435:\tlearn: 199.7379916\ttotal: 430ms\tremaining: 556ms\n",
      "436:\tlearn: 199.6605516\ttotal: 430ms\tremaining: 554ms\n",
      "437:\tlearn: 199.4767714\ttotal: 431ms\tremaining: 553ms\n",
      "438:\tlearn: 199.3654761\ttotal: 431ms\tremaining: 551ms\n",
      "439:\tlearn: 199.1104164\ttotal: 432ms\tremaining: 550ms\n",
      "440:\tlearn: 198.9821495\ttotal: 432ms\tremaining: 548ms\n",
      "441:\tlearn: 198.6911254\ttotal: 433ms\tremaining: 546ms\n",
      "442:\tlearn: 198.4554374\ttotal: 433ms\tremaining: 545ms\n",
      "443:\tlearn: 198.4108090\ttotal: 434ms\tremaining: 543ms\n",
      "444:\tlearn: 198.2539987\ttotal: 435ms\tremaining: 542ms\n",
      "445:\tlearn: 198.0903481\ttotal: 435ms\tremaining: 541ms\n",
      "446:\tlearn: 197.7788555\ttotal: 436ms\tremaining: 539ms\n",
      "447:\tlearn: 197.5577216\ttotal: 436ms\tremaining: 538ms\n",
      "448:\tlearn: 197.4248263\ttotal: 437ms\tremaining: 536ms\n",
      "449:\tlearn: 197.2528218\ttotal: 438ms\tremaining: 535ms\n",
      "450:\tlearn: 197.1040505\ttotal: 438ms\tremaining: 534ms\n",
      "451:\tlearn: 196.9314164\ttotal: 439ms\tremaining: 532ms\n",
      "452:\tlearn: 196.6352351\ttotal: 440ms\tremaining: 531ms\n",
      "453:\tlearn: 196.5336352\ttotal: 441ms\tremaining: 530ms\n",
      "454:\tlearn: 196.4147997\ttotal: 441ms\tremaining: 528ms\n",
      "455:\tlearn: 196.1725847\ttotal: 442ms\tremaining: 527ms\n",
      "456:\tlearn: 196.1283936\ttotal: 442ms\tremaining: 526ms\n",
      "457:\tlearn: 196.0176874\ttotal: 443ms\tremaining: 524ms\n",
      "458:\tlearn: 195.8117569\ttotal: 443ms\tremaining: 523ms\n",
      "459:\tlearn: 195.6468491\ttotal: 444ms\tremaining: 521ms\n",
      "460:\tlearn: 195.4884930\ttotal: 445ms\tremaining: 520ms\n",
      "461:\tlearn: 195.2421544\ttotal: 445ms\tremaining: 518ms\n",
      "462:\tlearn: 195.1649296\ttotal: 446ms\tremaining: 517ms\n",
      "463:\tlearn: 194.9486329\ttotal: 446ms\tremaining: 515ms\n",
      "464:\tlearn: 194.6835211\ttotal: 447ms\tremaining: 514ms\n",
      "465:\tlearn: 194.5007395\ttotal: 447ms\tremaining: 512ms\n",
      "466:\tlearn: 194.4486485\ttotal: 448ms\tremaining: 511ms\n",
      "467:\tlearn: 194.2687203\ttotal: 448ms\tremaining: 509ms\n",
      "468:\tlearn: 193.8798836\ttotal: 449ms\tremaining: 508ms\n",
      "469:\tlearn: 193.7010956\ttotal: 449ms\tremaining: 507ms\n",
      "470:\tlearn: 193.3879331\ttotal: 450ms\tremaining: 505ms\n",
      "471:\tlearn: 193.3389929\ttotal: 450ms\tremaining: 504ms\n",
      "472:\tlearn: 193.1411446\ttotal: 451ms\tremaining: 502ms\n",
      "473:\tlearn: 192.8797955\ttotal: 452ms\tremaining: 502ms\n",
      "474:\tlearn: 192.7227459\ttotal: 453ms\tremaining: 500ms\n",
      "475:\tlearn: 192.4606759\ttotal: 453ms\tremaining: 499ms\n",
      "476:\tlearn: 192.3139264\ttotal: 454ms\tremaining: 498ms\n",
      "477:\tlearn: 192.0299605\ttotal: 454ms\tremaining: 496ms\n",
      "478:\tlearn: 191.7845337\ttotal: 455ms\tremaining: 495ms\n",
      "479:\tlearn: 191.7373620\ttotal: 455ms\tremaining: 493ms\n",
      "480:\tlearn: 191.4848589\ttotal: 456ms\tremaining: 492ms\n",
      "481:\tlearn: 191.3120307\ttotal: 456ms\tremaining: 490ms\n",
      "482:\tlearn: 191.1050729\ttotal: 457ms\tremaining: 489ms\n",
      "483:\tlearn: 190.8577588\ttotal: 457ms\tremaining: 488ms\n",
      "484:\tlearn: 190.7863927\ttotal: 458ms\tremaining: 486ms\n",
      "485:\tlearn: 190.6305494\ttotal: 459ms\tremaining: 485ms\n",
      "486:\tlearn: 190.4746146\ttotal: 459ms\tremaining: 484ms\n",
      "487:\tlearn: 190.4105616\ttotal: 460ms\tremaining: 482ms\n",
      "488:\tlearn: 190.1565139\ttotal: 460ms\tremaining: 481ms\n"
     ]
    },
    {
     "name": "stdout",
     "output_type": "stream",
     "text": [
      "489:\tlearn: 189.9896227\ttotal: 461ms\tremaining: 480ms\n",
      "490:\tlearn: 189.8247663\ttotal: 462ms\tremaining: 479ms\n",
      "491:\tlearn: 189.7229360\ttotal: 463ms\tremaining: 478ms\n",
      "492:\tlearn: 189.5958459\ttotal: 463ms\tremaining: 476ms\n",
      "493:\tlearn: 189.3434166\ttotal: 464ms\tremaining: 475ms\n",
      "494:\tlearn: 189.2154008\ttotal: 464ms\tremaining: 474ms\n",
      "495:\tlearn: 189.0811889\ttotal: 465ms\tremaining: 473ms\n",
      "496:\tlearn: 188.7952544\ttotal: 466ms\tremaining: 472ms\n",
      "497:\tlearn: 188.6971736\ttotal: 467ms\tremaining: 471ms\n",
      "498:\tlearn: 188.6254790\ttotal: 468ms\tremaining: 470ms\n",
      "499:\tlearn: 188.5412392\ttotal: 469ms\tremaining: 469ms\n",
      "500:\tlearn: 188.3517731\ttotal: 469ms\tremaining: 467ms\n",
      "501:\tlearn: 188.2324218\ttotal: 469ms\tremaining: 466ms\n",
      "502:\tlearn: 187.8898192\ttotal: 470ms\tremaining: 464ms\n",
      "503:\tlearn: 187.7534889\ttotal: 470ms\tremaining: 463ms\n",
      "504:\tlearn: 187.5719262\ttotal: 471ms\tremaining: 461ms\n",
      "505:\tlearn: 187.3548944\ttotal: 471ms\tremaining: 460ms\n",
      "506:\tlearn: 187.0925513\ttotal: 472ms\tremaining: 459ms\n",
      "507:\tlearn: 187.0242246\ttotal: 472ms\tremaining: 457ms\n",
      "508:\tlearn: 186.8699061\ttotal: 473ms\tremaining: 456ms\n",
      "509:\tlearn: 186.7349046\ttotal: 473ms\tremaining: 454ms\n",
      "510:\tlearn: 186.5171672\ttotal: 473ms\tremaining: 453ms\n",
      "511:\tlearn: 186.2967407\ttotal: 474ms\tremaining: 452ms\n",
      "512:\tlearn: 186.0678491\ttotal: 474ms\tremaining: 450ms\n",
      "513:\tlearn: 185.9868424\ttotal: 475ms\tremaining: 449ms\n",
      "514:\tlearn: 185.7677407\ttotal: 475ms\tremaining: 448ms\n",
      "515:\tlearn: 185.6222904\ttotal: 476ms\tremaining: 446ms\n",
      "516:\tlearn: 185.3546731\ttotal: 476ms\tremaining: 445ms\n",
      "517:\tlearn: 185.2784874\ttotal: 477ms\tremaining: 444ms\n",
      "518:\tlearn: 185.1084258\ttotal: 477ms\tremaining: 442ms\n",
      "519:\tlearn: 185.0055228\ttotal: 478ms\tremaining: 441ms\n",
      "520:\tlearn: 184.8400240\ttotal: 478ms\tremaining: 440ms\n",
      "521:\tlearn: 184.7397741\ttotal: 479ms\tremaining: 438ms\n",
      "522:\tlearn: 184.6149278\ttotal: 479ms\tremaining: 437ms\n",
      "523:\tlearn: 184.5172308\ttotal: 480ms\tremaining: 436ms\n",
      "524:\tlearn: 184.3110305\ttotal: 480ms\tremaining: 435ms\n",
      "525:\tlearn: 184.1952323\ttotal: 481ms\tremaining: 433ms\n",
      "526:\tlearn: 184.1036605\ttotal: 481ms\tremaining: 432ms\n",
      "527:\tlearn: 184.0036292\ttotal: 482ms\tremaining: 431ms\n",
      "528:\tlearn: 183.8410982\ttotal: 482ms\tremaining: 429ms\n",
      "529:\tlearn: 183.7636402\ttotal: 483ms\tremaining: 428ms\n",
      "530:\tlearn: 183.6617512\ttotal: 483ms\tremaining: 427ms\n",
      "531:\tlearn: 183.5682844\ttotal: 484ms\tremaining: 425ms\n",
      "532:\tlearn: 183.4676139\ttotal: 484ms\tremaining: 424ms\n",
      "533:\tlearn: 183.3494870\ttotal: 485ms\tremaining: 423ms\n",
      "534:\tlearn: 183.2793703\ttotal: 485ms\tremaining: 422ms\n",
      "535:\tlearn: 183.2163029\ttotal: 485ms\tremaining: 420ms\n",
      "536:\tlearn: 183.0349296\ttotal: 486ms\tremaining: 419ms\n",
      "537:\tlearn: 182.9996351\ttotal: 486ms\tremaining: 418ms\n",
      "538:\tlearn: 182.9198973\ttotal: 487ms\tremaining: 416ms\n",
      "539:\tlearn: 182.6610575\ttotal: 487ms\tremaining: 415ms\n",
      "540:\tlearn: 182.4272730\ttotal: 488ms\tremaining: 414ms\n",
      "541:\tlearn: 182.2772227\ttotal: 488ms\tremaining: 412ms\n",
      "542:\tlearn: 182.1321023\ttotal: 488ms\tremaining: 411ms\n",
      "543:\tlearn: 181.9917307\ttotal: 489ms\tremaining: 410ms\n",
      "544:\tlearn: 181.8649446\ttotal: 489ms\tremaining: 408ms\n",
      "545:\tlearn: 181.8429625\ttotal: 490ms\tremaining: 407ms\n",
      "546:\tlearn: 181.7172366\ttotal: 490ms\tremaining: 406ms\n",
      "547:\tlearn: 181.4812213\ttotal: 491ms\tremaining: 405ms\n",
      "548:\tlearn: 181.4130330\ttotal: 492ms\tremaining: 404ms\n",
      "549:\tlearn: 181.3054447\ttotal: 492ms\tremaining: 403ms\n",
      "550:\tlearn: 181.1861878\ttotal: 493ms\tremaining: 402ms\n",
      "551:\tlearn: 181.0979505\ttotal: 494ms\tremaining: 401ms\n",
      "552:\tlearn: 180.9882772\ttotal: 495ms\tremaining: 400ms\n",
      "553:\tlearn: 180.8703474\ttotal: 495ms\tremaining: 399ms\n",
      "554:\tlearn: 180.7659804\ttotal: 496ms\tremaining: 398ms\n",
      "555:\tlearn: 180.6459818\ttotal: 497ms\tremaining: 397ms\n",
      "556:\tlearn: 180.5226937\ttotal: 497ms\tremaining: 396ms\n",
      "557:\tlearn: 180.3929482\ttotal: 498ms\tremaining: 394ms\n",
      "558:\tlearn: 180.3220861\ttotal: 499ms\tremaining: 393ms\n",
      "559:\tlearn: 180.2232723\ttotal: 499ms\tremaining: 392ms\n",
      "560:\tlearn: 180.1550482\ttotal: 500ms\tremaining: 391ms\n",
      "561:\tlearn: 179.8753538\ttotal: 500ms\tremaining: 390ms\n",
      "562:\tlearn: 179.7879156\ttotal: 501ms\tremaining: 389ms\n",
      "563:\tlearn: 179.4941401\ttotal: 502ms\tremaining: 388ms\n",
      "564:\tlearn: 179.2093662\ttotal: 502ms\tremaining: 387ms\n",
      "565:\tlearn: 179.1043053\ttotal: 503ms\tremaining: 386ms\n",
      "566:\tlearn: 178.9910734\ttotal: 503ms\tremaining: 384ms\n",
      "567:\tlearn: 178.9222692\ttotal: 504ms\tremaining: 383ms\n",
      "568:\tlearn: 178.8673851\ttotal: 504ms\tremaining: 382ms\n",
      "569:\tlearn: 178.8073775\ttotal: 505ms\tremaining: 381ms\n",
      "570:\tlearn: 178.6475145\ttotal: 505ms\tremaining: 380ms\n",
      "571:\tlearn: 178.5697061\ttotal: 506ms\tremaining: 378ms\n",
      "572:\tlearn: 178.5372480\ttotal: 506ms\tremaining: 377ms\n",
      "573:\tlearn: 178.3743242\ttotal: 507ms\tremaining: 377ms\n",
      "574:\tlearn: 178.2945318\ttotal: 508ms\tremaining: 376ms\n",
      "575:\tlearn: 178.1800782\ttotal: 509ms\tremaining: 374ms\n",
      "576:\tlearn: 178.0615817\ttotal: 509ms\tremaining: 373ms\n",
      "577:\tlearn: 177.9411752\ttotal: 510ms\tremaining: 372ms\n",
      "578:\tlearn: 177.7888718\ttotal: 510ms\tremaining: 371ms\n",
      "579:\tlearn: 177.6769515\ttotal: 510ms\tremaining: 370ms\n",
      "580:\tlearn: 177.6141263\ttotal: 511ms\tremaining: 368ms\n",
      "581:\tlearn: 177.5825895\ttotal: 511ms\tremaining: 367ms\n",
      "582:\tlearn: 177.5118755\ttotal: 512ms\tremaining: 366ms\n",
      "583:\tlearn: 177.4300439\ttotal: 512ms\tremaining: 365ms\n",
      "584:\tlearn: 177.2143143\ttotal: 513ms\tremaining: 364ms\n",
      "585:\tlearn: 177.1846613\ttotal: 513ms\tremaining: 362ms\n",
      "586:\tlearn: 177.0534102\ttotal: 513ms\tremaining: 361ms\n",
      "587:\tlearn: 176.9444983\ttotal: 514ms\tremaining: 360ms\n",
      "588:\tlearn: 176.8911978\ttotal: 514ms\tremaining: 359ms\n",
      "589:\tlearn: 176.6092488\ttotal: 515ms\tremaining: 358ms\n",
      "590:\tlearn: 176.5045591\ttotal: 515ms\tremaining: 357ms\n",
      "591:\tlearn: 176.2432203\ttotal: 516ms\tremaining: 355ms\n",
      "592:\tlearn: 176.0975011\ttotal: 516ms\tremaining: 354ms\n",
      "593:\tlearn: 176.0403919\ttotal: 517ms\tremaining: 353ms\n",
      "594:\tlearn: 175.9909817\ttotal: 517ms\tremaining: 352ms\n",
      "595:\tlearn: 175.8090967\ttotal: 518ms\tremaining: 351ms\n",
      "596:\tlearn: 175.5437540\ttotal: 518ms\tremaining: 350ms\n",
      "597:\tlearn: 175.4535504\ttotal: 520ms\tremaining: 350ms\n",
      "598:\tlearn: 175.3894233\ttotal: 521ms\tremaining: 349ms\n",
      "599:\tlearn: 175.3384088\ttotal: 521ms\tremaining: 347ms\n",
      "600:\tlearn: 175.2508091\ttotal: 522ms\tremaining: 346ms\n",
      "601:\tlearn: 175.1979504\ttotal: 522ms\tremaining: 345ms\n",
      "602:\tlearn: 175.1135061\ttotal: 523ms\tremaining: 344ms\n",
      "603:\tlearn: 175.0208185\ttotal: 523ms\tremaining: 343ms\n",
      "604:\tlearn: 174.9240563\ttotal: 523ms\tremaining: 342ms\n",
      "605:\tlearn: 174.8086173\ttotal: 524ms\tremaining: 341ms\n",
      "606:\tlearn: 174.6718137\ttotal: 524ms\tremaining: 339ms\n",
      "607:\tlearn: 174.5359996\ttotal: 525ms\tremaining: 338ms\n",
      "608:\tlearn: 174.5055269\ttotal: 525ms\tremaining: 337ms\n",
      "609:\tlearn: 174.4427677\ttotal: 526ms\tremaining: 336ms\n",
      "610:\tlearn: 174.2820556\ttotal: 526ms\tremaining: 335ms\n",
      "611:\tlearn: 174.2343239\ttotal: 527ms\tremaining: 334ms\n",
      "612:\tlearn: 174.1972634\ttotal: 527ms\tremaining: 333ms\n",
      "613:\tlearn: 174.0712501\ttotal: 527ms\tremaining: 332ms\n",
      "614:\tlearn: 173.9477182\ttotal: 528ms\tremaining: 330ms\n",
      "615:\tlearn: 173.8466791\ttotal: 528ms\tremaining: 329ms\n",
      "616:\tlearn: 173.6756579\ttotal: 529ms\tremaining: 328ms\n",
      "617:\tlearn: 173.5526488\ttotal: 529ms\tremaining: 327ms\n",
      "618:\tlearn: 173.4201011\ttotal: 530ms\tremaining: 326ms\n",
      "619:\tlearn: 173.3804966\ttotal: 530ms\tremaining: 325ms\n",
      "620:\tlearn: 173.3486455\ttotal: 530ms\tremaining: 324ms\n",
      "621:\tlearn: 173.3015725\ttotal: 531ms\tremaining: 323ms\n",
      "622:\tlearn: 173.2065460\ttotal: 532ms\tremaining: 322ms\n",
      "623:\tlearn: 173.1882653\ttotal: 532ms\tremaining: 321ms\n",
      "624:\tlearn: 173.1597085\ttotal: 533ms\tremaining: 320ms\n",
      "625:\tlearn: 173.1492921\ttotal: 534ms\tremaining: 319ms\n",
      "626:\tlearn: 173.0968808\ttotal: 535ms\tremaining: 318ms\n",
      "627:\tlearn: 172.9514735\ttotal: 535ms\tremaining: 317ms\n",
      "628:\tlearn: 172.8681079\ttotal: 536ms\tremaining: 316ms\n",
      "629:\tlearn: 172.7956893\ttotal: 536ms\tremaining: 315ms\n",
      "630:\tlearn: 172.6743684\ttotal: 537ms\tremaining: 314ms\n",
      "631:\tlearn: 172.6166476\ttotal: 537ms\tremaining: 313ms\n",
      "632:\tlearn: 172.4569300\ttotal: 538ms\tremaining: 312ms\n",
      "633:\tlearn: 172.4084628\ttotal: 538ms\tremaining: 311ms\n",
      "634:\tlearn: 172.3276858\ttotal: 538ms\tremaining: 310ms\n",
      "635:\tlearn: 172.2227420\ttotal: 539ms\tremaining: 308ms\n",
      "636:\tlearn: 172.1796843\ttotal: 540ms\tremaining: 307ms\n",
      "637:\tlearn: 172.0958658\ttotal: 540ms\tremaining: 306ms\n",
      "638:\tlearn: 171.9141471\ttotal: 540ms\tremaining: 305ms\n",
      "639:\tlearn: 171.8396278\ttotal: 541ms\tremaining: 304ms\n",
      "640:\tlearn: 171.7210962\ttotal: 541ms\tremaining: 303ms\n",
      "641:\tlearn: 171.6853661\ttotal: 542ms\tremaining: 302ms\n",
      "642:\tlearn: 171.5865004\ttotal: 542ms\tremaining: 301ms\n",
      "643:\tlearn: 171.5060741\ttotal: 543ms\tremaining: 300ms\n",
      "644:\tlearn: 171.4086406\ttotal: 543ms\tremaining: 299ms\n",
      "645:\tlearn: 171.3218806\ttotal: 543ms\tremaining: 298ms\n",
      "646:\tlearn: 171.2040358\ttotal: 544ms\tremaining: 297ms\n",
      "647:\tlearn: 171.1070276\ttotal: 544ms\tremaining: 296ms\n",
      "648:\tlearn: 171.0938795\ttotal: 545ms\tremaining: 295ms\n",
      "649:\tlearn: 170.9659596\ttotal: 545ms\tremaining: 294ms\n",
      "650:\tlearn: 170.9471657\ttotal: 546ms\tremaining: 293ms\n",
      "651:\tlearn: 170.8690790\ttotal: 546ms\tremaining: 291ms\n",
      "652:\tlearn: 170.7411986\ttotal: 547ms\tremaining: 291ms\n",
      "653:\tlearn: 170.6584333\ttotal: 548ms\tremaining: 290ms\n",
      "654:\tlearn: 170.6054470\ttotal: 548ms\tremaining: 289ms\n",
      "655:\tlearn: 170.5301944\ttotal: 549ms\tremaining: 288ms\n",
      "656:\tlearn: 170.5125215\ttotal: 549ms\tremaining: 287ms\n",
      "657:\tlearn: 170.3133444\ttotal: 549ms\tremaining: 286ms\n",
      "658:\tlearn: 170.2231506\ttotal: 550ms\tremaining: 285ms\n",
      "659:\tlearn: 169.9872700\ttotal: 550ms\tremaining: 283ms\n",
      "660:\tlearn: 169.8687476\ttotal: 551ms\tremaining: 282ms\n",
      "661:\tlearn: 169.8162617\ttotal: 551ms\tremaining: 281ms\n",
      "662:\tlearn: 169.7765520\ttotal: 552ms\tremaining: 280ms\n",
      "663:\tlearn: 169.5991373\ttotal: 552ms\tremaining: 279ms\n",
      "664:\tlearn: 169.5688670\ttotal: 552ms\tremaining: 278ms\n",
      "665:\tlearn: 169.4960353\ttotal: 553ms\tremaining: 277ms\n",
      "666:\tlearn: 169.4208792\ttotal: 553ms\tremaining: 276ms\n",
      "667:\tlearn: 169.3273951\ttotal: 554ms\tremaining: 275ms\n",
      "668:\tlearn: 169.1415163\ttotal: 554ms\tremaining: 274ms\n",
      "669:\tlearn: 169.0804519\ttotal: 555ms\tremaining: 273ms\n",
      "670:\tlearn: 169.0400596\ttotal: 555ms\tremaining: 272ms\n",
      "671:\tlearn: 168.8839686\ttotal: 556ms\tremaining: 271ms\n",
      "672:\tlearn: 168.8352923\ttotal: 556ms\tremaining: 270ms\n",
      "673:\tlearn: 168.7882902\ttotal: 557ms\tremaining: 269ms\n",
      "674:\tlearn: 168.7509722\ttotal: 557ms\tremaining: 268ms\n",
      "675:\tlearn: 168.6850463\ttotal: 558ms\tremaining: 267ms\n",
      "676:\tlearn: 168.6181634\ttotal: 558ms\tremaining: 266ms\n",
      "677:\tlearn: 168.5402121\ttotal: 559ms\tremaining: 265ms\n",
      "678:\tlearn: 168.4783205\ttotal: 559ms\tremaining: 264ms\n",
      "679:\tlearn: 168.4596158\ttotal: 560ms\tremaining: 264ms\n",
      "680:\tlearn: 168.3951522\ttotal: 561ms\tremaining: 263ms\n",
      "681:\tlearn: 168.3372878\ttotal: 562ms\tremaining: 262ms\n",
      "682:\tlearn: 168.3100818\ttotal: 562ms\tremaining: 261ms\n",
      "683:\tlearn: 168.2905218\ttotal: 563ms\tremaining: 260ms\n",
      "684:\tlearn: 168.2673599\ttotal: 563ms\tremaining: 259ms\n",
      "685:\tlearn: 168.1627113\ttotal: 564ms\tremaining: 258ms\n",
      "686:\tlearn: 168.0156134\ttotal: 564ms\tremaining: 257ms\n",
      "687:\tlearn: 167.9781056\ttotal: 565ms\tremaining: 256ms\n",
      "688:\tlearn: 167.9395465\ttotal: 566ms\tremaining: 255ms\n",
      "689:\tlearn: 167.8927423\ttotal: 566ms\tremaining: 254ms\n",
      "690:\tlearn: 167.8708312\ttotal: 567ms\tremaining: 253ms\n",
      "691:\tlearn: 167.8055432\ttotal: 567ms\tremaining: 252ms\n",
      "692:\tlearn: 167.7207462\ttotal: 568ms\tremaining: 251ms\n",
      "693:\tlearn: 167.6271140\ttotal: 568ms\tremaining: 250ms\n",
      "694:\tlearn: 167.4716906\ttotal: 568ms\tremaining: 249ms\n",
      "695:\tlearn: 167.3782583\ttotal: 569ms\tremaining: 249ms\n",
      "696:\tlearn: 167.2101566\ttotal: 569ms\tremaining: 248ms\n",
      "697:\tlearn: 167.1886366\ttotal: 570ms\tremaining: 247ms\n",
      "698:\tlearn: 167.1186031\ttotal: 570ms\tremaining: 246ms\n",
      "699:\tlearn: 167.0626196\ttotal: 571ms\tremaining: 245ms\n",
      "700:\tlearn: 167.0396063\ttotal: 571ms\tremaining: 244ms\n",
      "701:\tlearn: 166.9941344\ttotal: 572ms\tremaining: 243ms\n",
      "702:\tlearn: 166.8928994\ttotal: 572ms\tremaining: 242ms\n",
      "703:\tlearn: 166.8088169\ttotal: 573ms\tremaining: 241ms\n",
      "704:\tlearn: 166.7517609\ttotal: 573ms\tremaining: 240ms\n",
      "705:\tlearn: 166.7359808\ttotal: 574ms\tremaining: 239ms\n",
      "706:\tlearn: 166.6809611\ttotal: 575ms\tremaining: 238ms\n",
      "707:\tlearn: 166.6469117\ttotal: 577ms\tremaining: 238ms\n",
      "708:\tlearn: 166.5887260\ttotal: 578ms\tremaining: 237ms\n",
      "709:\tlearn: 166.4902336\ttotal: 579ms\tremaining: 236ms\n",
      "710:\tlearn: 166.4502047\ttotal: 580ms\tremaining: 236ms\n",
      "711:\tlearn: 166.2987170\ttotal: 581ms\tremaining: 235ms\n",
      "712:\tlearn: 166.2465990\ttotal: 582ms\tremaining: 234ms\n",
      "713:\tlearn: 166.2299349\ttotal: 582ms\tremaining: 233ms\n",
      "714:\tlearn: 166.0618601\ttotal: 583ms\tremaining: 232ms\n",
      "715:\tlearn: 166.0220758\ttotal: 583ms\tremaining: 231ms\n",
      "716:\tlearn: 165.9732431\ttotal: 584ms\tremaining: 230ms\n",
      "717:\tlearn: 165.9268888\ttotal: 584ms\tremaining: 230ms\n",
      "718:\tlearn: 165.8506881\ttotal: 585ms\tremaining: 229ms\n",
      "719:\tlearn: 165.8310074\ttotal: 585ms\tremaining: 228ms\n",
      "720:\tlearn: 165.7989119\ttotal: 586ms\tremaining: 227ms\n",
      "721:\tlearn: 165.7641571\ttotal: 586ms\tremaining: 226ms\n",
      "722:\tlearn: 165.7261084\ttotal: 587ms\tremaining: 225ms\n",
      "723:\tlearn: 165.6883021\ttotal: 587ms\tremaining: 224ms\n",
      "724:\tlearn: 165.6034996\ttotal: 589ms\tremaining: 224ms\n",
      "725:\tlearn: 165.5809828\ttotal: 590ms\tremaining: 223ms\n",
      "726:\tlearn: 165.5623112\ttotal: 591ms\tremaining: 222ms\n",
      "727:\tlearn: 165.5379788\ttotal: 591ms\tremaining: 221ms\n",
      "728:\tlearn: 165.5220296\ttotal: 592ms\tremaining: 220ms\n",
      "729:\tlearn: 165.4522804\ttotal: 592ms\tremaining: 219ms\n",
      "730:\tlearn: 165.3212481\ttotal: 593ms\tremaining: 218ms\n",
      "731:\tlearn: 165.2883993\ttotal: 593ms\tremaining: 217ms\n",
      "732:\tlearn: 165.2388652\ttotal: 594ms\tremaining: 216ms\n",
      "733:\tlearn: 165.2070719\ttotal: 594ms\tremaining: 215ms\n",
      "734:\tlearn: 165.1049283\ttotal: 595ms\tremaining: 214ms\n",
      "735:\tlearn: 165.0197785\ttotal: 595ms\tremaining: 214ms\n",
      "736:\tlearn: 164.9575508\ttotal: 596ms\tremaining: 213ms\n",
      "737:\tlearn: 164.7643361\ttotal: 596ms\tremaining: 212ms\n",
      "738:\tlearn: 164.7402610\ttotal: 597ms\tremaining: 211ms\n",
      "739:\tlearn: 164.7131412\ttotal: 598ms\tremaining: 210ms\n",
      "740:\tlearn: 164.5257134\ttotal: 598ms\tremaining: 209ms\n",
      "741:\tlearn: 164.4387896\ttotal: 599ms\tremaining: 208ms\n",
      "742:\tlearn: 164.3982770\ttotal: 599ms\tremaining: 207ms\n",
      "743:\tlearn: 164.3639277\ttotal: 600ms\tremaining: 206ms\n",
      "744:\tlearn: 164.3209403\ttotal: 600ms\tremaining: 205ms\n",
      "745:\tlearn: 164.1670720\ttotal: 601ms\tremaining: 205ms\n",
      "746:\tlearn: 164.0926210\ttotal: 601ms\tremaining: 204ms\n",
      "747:\tlearn: 164.0156673\ttotal: 603ms\tremaining: 203ms\n",
      "748:\tlearn: 163.9764239\ttotal: 604ms\tremaining: 202ms\n",
      "749:\tlearn: 163.9063260\ttotal: 605ms\tremaining: 202ms\n",
      "750:\tlearn: 163.8902852\ttotal: 605ms\tremaining: 201ms\n",
      "751:\tlearn: 163.8654349\ttotal: 606ms\tremaining: 200ms\n",
      "752:\tlearn: 163.7777250\ttotal: 607ms\tremaining: 199ms\n",
      "753:\tlearn: 163.7314847\ttotal: 607ms\tremaining: 198ms\n",
      "754:\tlearn: 163.5965567\ttotal: 608ms\tremaining: 197ms\n",
      "755:\tlearn: 163.4969055\ttotal: 608ms\tremaining: 196ms\n",
      "756:\tlearn: 163.4817700\ttotal: 609ms\tremaining: 195ms\n",
      "757:\tlearn: 163.4535903\ttotal: 609ms\tremaining: 195ms\n",
      "758:\tlearn: 163.4015268\ttotal: 610ms\tremaining: 194ms\n",
      "759:\tlearn: 163.3870102\ttotal: 610ms\tremaining: 193ms\n",
      "760:\tlearn: 163.3654953\ttotal: 611ms\tremaining: 192ms\n",
      "761:\tlearn: 163.2858820\ttotal: 611ms\tremaining: 191ms\n",
      "762:\tlearn: 163.2685030\ttotal: 612ms\tremaining: 190ms\n",
      "763:\tlearn: 163.1745935\ttotal: 612ms\tremaining: 189ms\n",
      "764:\tlearn: 163.1075450\ttotal: 613ms\tremaining: 188ms\n",
      "765:\tlearn: 163.0028300\ttotal: 613ms\tremaining: 187ms\n",
      "766:\tlearn: 162.9097380\ttotal: 614ms\tremaining: 186ms\n",
      "767:\tlearn: 162.8904284\ttotal: 614ms\tremaining: 186ms\n",
      "768:\tlearn: 162.8190914\ttotal: 615ms\tremaining: 185ms\n",
      "769:\tlearn: 162.7725241\ttotal: 615ms\tremaining: 184ms\n",
      "770:\tlearn: 162.7264643\ttotal: 616ms\tremaining: 183ms\n",
      "771:\tlearn: 162.6694945\ttotal: 617ms\tremaining: 182ms\n",
      "772:\tlearn: 162.6442131\ttotal: 618ms\tremaining: 181ms\n",
      "773:\tlearn: 162.6169526\ttotal: 619ms\tremaining: 181ms\n",
      "774:\tlearn: 162.6034369\ttotal: 620ms\tremaining: 180ms\n",
      "775:\tlearn: 162.5360808\ttotal: 620ms\tremaining: 179ms\n",
      "776:\tlearn: 162.5041240\ttotal: 621ms\tremaining: 178ms\n",
      "777:\tlearn: 162.4687800\ttotal: 624ms\tremaining: 178ms\n",
      "778:\tlearn: 162.4266673\ttotal: 625ms\tremaining: 177ms\n",
      "779:\tlearn: 162.4116808\ttotal: 625ms\tremaining: 176ms\n",
      "780:\tlearn: 162.3261513\ttotal: 626ms\tremaining: 175ms\n",
      "781:\tlearn: 162.2609816\ttotal: 626ms\tremaining: 175ms\n",
      "782:\tlearn: 162.2356918\ttotal: 627ms\tremaining: 174ms\n",
      "783:\tlearn: 162.1840895\ttotal: 627ms\tremaining: 173ms\n",
      "784:\tlearn: 162.1400407\ttotal: 628ms\tremaining: 172ms\n",
      "785:\tlearn: 162.0818690\ttotal: 628ms\tremaining: 171ms\n",
      "786:\tlearn: 162.0565184\ttotal: 629ms\tremaining: 170ms\n",
      "787:\tlearn: 162.0471866\ttotal: 630ms\tremaining: 170ms\n",
      "788:\tlearn: 161.9722006\ttotal: 631ms\tremaining: 169ms\n",
      "789:\tlearn: 161.9309223\ttotal: 632ms\tremaining: 168ms\n",
      "790:\tlearn: 161.8424980\ttotal: 633ms\tremaining: 167ms\n"
     ]
    },
    {
     "name": "stdout",
     "output_type": "stream",
     "text": [
      "791:\tlearn: 161.7939817\ttotal: 633ms\tremaining: 166ms\n",
      "792:\tlearn: 161.7612504\ttotal: 634ms\tremaining: 166ms\n",
      "793:\tlearn: 161.7317498\ttotal: 635ms\tremaining: 165ms\n",
      "794:\tlearn: 161.6988287\ttotal: 636ms\tremaining: 164ms\n",
      "795:\tlearn: 161.5839177\ttotal: 636ms\tremaining: 163ms\n",
      "796:\tlearn: 161.5009295\ttotal: 637ms\tremaining: 162ms\n",
      "797:\tlearn: 161.4818966\ttotal: 637ms\tremaining: 161ms\n",
      "798:\tlearn: 161.3818419\ttotal: 638ms\tremaining: 160ms\n",
      "799:\tlearn: 161.3518540\ttotal: 638ms\tremaining: 160ms\n",
      "800:\tlearn: 161.2914709\ttotal: 639ms\tremaining: 159ms\n",
      "801:\tlearn: 161.2676398\ttotal: 640ms\tremaining: 158ms\n",
      "802:\tlearn: 161.2098194\ttotal: 640ms\tremaining: 157ms\n",
      "803:\tlearn: 161.0466779\ttotal: 641ms\tremaining: 156ms\n",
      "804:\tlearn: 161.0135115\ttotal: 641ms\tremaining: 155ms\n",
      "805:\tlearn: 160.9187340\ttotal: 642ms\tremaining: 154ms\n",
      "806:\tlearn: 160.8849595\ttotal: 642ms\tremaining: 154ms\n",
      "807:\tlearn: 160.8254707\ttotal: 643ms\tremaining: 153ms\n",
      "808:\tlearn: 160.8056369\ttotal: 643ms\tremaining: 152ms\n",
      "809:\tlearn: 160.7827062\ttotal: 644ms\tremaining: 151ms\n",
      "810:\tlearn: 160.7329264\ttotal: 644ms\tremaining: 150ms\n",
      "811:\tlearn: 160.6961338\ttotal: 645ms\tremaining: 149ms\n",
      "812:\tlearn: 160.6461129\ttotal: 645ms\tremaining: 148ms\n",
      "813:\tlearn: 160.5937359\ttotal: 645ms\tremaining: 147ms\n",
      "814:\tlearn: 160.5343759\ttotal: 646ms\tremaining: 147ms\n",
      "815:\tlearn: 160.4705752\ttotal: 647ms\tremaining: 146ms\n",
      "816:\tlearn: 160.4595710\ttotal: 647ms\tremaining: 145ms\n",
      "817:\tlearn: 160.3932396\ttotal: 648ms\tremaining: 144ms\n",
      "818:\tlearn: 160.3429299\ttotal: 648ms\tremaining: 143ms\n",
      "819:\tlearn: 160.2755044\ttotal: 649ms\tremaining: 142ms\n",
      "820:\tlearn: 160.2636342\ttotal: 649ms\tremaining: 142ms\n",
      "821:\tlearn: 160.1359318\ttotal: 650ms\tremaining: 141ms\n",
      "822:\tlearn: 160.1067004\ttotal: 650ms\tremaining: 140ms\n",
      "823:\tlearn: 159.9823873\ttotal: 651ms\tremaining: 139ms\n",
      "824:\tlearn: 159.8507493\ttotal: 651ms\tremaining: 138ms\n",
      "825:\tlearn: 159.8038950\ttotal: 652ms\tremaining: 137ms\n",
      "826:\tlearn: 159.7727303\ttotal: 652ms\tremaining: 136ms\n",
      "827:\tlearn: 159.7348263\ttotal: 653ms\tremaining: 136ms\n",
      "828:\tlearn: 159.6944448\ttotal: 653ms\tremaining: 135ms\n",
      "829:\tlearn: 159.6821024\ttotal: 654ms\tremaining: 134ms\n",
      "830:\tlearn: 159.6406365\ttotal: 655ms\tremaining: 133ms\n",
      "831:\tlearn: 159.6020128\ttotal: 656ms\tremaining: 132ms\n",
      "832:\tlearn: 159.5176157\ttotal: 656ms\tremaining: 132ms\n",
      "833:\tlearn: 159.4696244\ttotal: 657ms\tremaining: 131ms\n",
      "834:\tlearn: 159.4382674\ttotal: 657ms\tremaining: 130ms\n",
      "835:\tlearn: 159.4080264\ttotal: 658ms\tremaining: 129ms\n",
      "836:\tlearn: 159.2722889\ttotal: 658ms\tremaining: 128ms\n",
      "837:\tlearn: 159.1579760\ttotal: 659ms\tremaining: 127ms\n",
      "838:\tlearn: 159.1174019\ttotal: 659ms\tremaining: 127ms\n",
      "839:\tlearn: 159.0782604\ttotal: 660ms\tremaining: 126ms\n",
      "840:\tlearn: 159.0075084\ttotal: 660ms\tremaining: 125ms\n",
      "841:\tlearn: 158.9093974\ttotal: 661ms\tremaining: 124ms\n",
      "842:\tlearn: 158.8995404\ttotal: 661ms\tremaining: 123ms\n",
      "843:\tlearn: 158.8069920\ttotal: 662ms\tremaining: 122ms\n",
      "844:\tlearn: 158.7806746\ttotal: 663ms\tremaining: 122ms\n",
      "845:\tlearn: 158.7204991\ttotal: 663ms\tremaining: 121ms\n",
      "846:\tlearn: 158.6941109\ttotal: 664ms\tremaining: 120ms\n",
      "847:\tlearn: 158.6645358\ttotal: 664ms\tremaining: 119ms\n",
      "848:\tlearn: 158.5726134\ttotal: 664ms\tremaining: 118ms\n",
      "849:\tlearn: 158.5204694\ttotal: 665ms\tremaining: 117ms\n",
      "850:\tlearn: 158.4575566\ttotal: 665ms\tremaining: 117ms\n",
      "851:\tlearn: 158.4439096\ttotal: 666ms\tremaining: 116ms\n",
      "852:\tlearn: 158.4082845\ttotal: 666ms\tremaining: 115ms\n",
      "853:\tlearn: 158.3709565\ttotal: 667ms\tremaining: 114ms\n",
      "854:\tlearn: 158.3260058\ttotal: 667ms\tremaining: 113ms\n",
      "855:\tlearn: 158.2900066\ttotal: 668ms\tremaining: 112ms\n",
      "856:\tlearn: 158.2585800\ttotal: 669ms\tremaining: 112ms\n",
      "857:\tlearn: 158.2402047\ttotal: 670ms\tremaining: 111ms\n",
      "858:\tlearn: 158.2168989\ttotal: 671ms\tremaining: 110ms\n",
      "859:\tlearn: 158.1559241\ttotal: 672ms\tremaining: 109ms\n",
      "860:\tlearn: 158.1231884\ttotal: 672ms\tremaining: 109ms\n",
      "861:\tlearn: 158.0676934\ttotal: 673ms\tremaining: 108ms\n",
      "862:\tlearn: 158.0416031\ttotal: 673ms\tremaining: 107ms\n",
      "863:\tlearn: 158.0233344\ttotal: 674ms\tremaining: 106ms\n",
      "864:\tlearn: 157.9729893\ttotal: 674ms\tremaining: 105ms\n",
      "865:\tlearn: 157.8543944\ttotal: 675ms\tremaining: 104ms\n",
      "866:\tlearn: 157.7336713\ttotal: 675ms\tremaining: 104ms\n",
      "867:\tlearn: 157.6881689\ttotal: 676ms\tremaining: 103ms\n",
      "868:\tlearn: 157.5999547\ttotal: 676ms\tremaining: 102ms\n",
      "869:\tlearn: 157.4883961\ttotal: 677ms\tremaining: 101ms\n",
      "870:\tlearn: 157.3925833\ttotal: 677ms\tremaining: 100ms\n",
      "871:\tlearn: 157.3721577\ttotal: 677ms\tremaining: 99.4ms\n",
      "872:\tlearn: 157.3279129\ttotal: 678ms\tremaining: 98.6ms\n",
      "873:\tlearn: 157.2445238\ttotal: 678ms\tremaining: 97.8ms\n",
      "874:\tlearn: 157.2022939\ttotal: 679ms\tremaining: 97ms\n",
      "875:\tlearn: 157.0917696\ttotal: 679ms\tremaining: 96.2ms\n",
      "876:\tlearn: 157.0336840\ttotal: 680ms\tremaining: 95.3ms\n",
      "877:\tlearn: 157.0066158\ttotal: 680ms\tremaining: 94.5ms\n",
      "878:\tlearn: 156.9680417\ttotal: 681ms\tremaining: 93.7ms\n",
      "879:\tlearn: 156.8864307\ttotal: 681ms\tremaining: 92.9ms\n",
      "880:\tlearn: 156.8248936\ttotal: 681ms\tremaining: 92.1ms\n",
      "881:\tlearn: 156.7846059\ttotal: 682ms\tremaining: 91.2ms\n",
      "882:\tlearn: 156.7509166\ttotal: 683ms\tremaining: 90.5ms\n",
      "883:\tlearn: 156.6065650\ttotal: 684ms\tremaining: 89.7ms\n",
      "884:\tlearn: 156.5894580\ttotal: 684ms\tremaining: 88.9ms\n",
      "885:\tlearn: 156.4732011\ttotal: 685ms\tremaining: 88.1ms\n",
      "886:\tlearn: 156.4616068\ttotal: 685ms\tremaining: 87.3ms\n",
      "887:\tlearn: 156.4417405\ttotal: 701ms\tremaining: 88.4ms\n",
      "888:\tlearn: 156.4183940\ttotal: 702ms\tremaining: 87.6ms\n",
      "889:\tlearn: 156.3957882\ttotal: 702ms\tremaining: 86.8ms\n",
      "890:\tlearn: 156.3591164\ttotal: 703ms\tremaining: 86ms\n",
      "891:\tlearn: 156.3554410\ttotal: 703ms\tremaining: 85.1ms\n",
      "892:\tlearn: 156.3258657\ttotal: 704ms\tremaining: 84.3ms\n",
      "893:\tlearn: 156.3158960\ttotal: 704ms\tremaining: 83.5ms\n",
      "894:\tlearn: 156.2883672\ttotal: 704ms\tremaining: 82.6ms\n",
      "895:\tlearn: 156.2514405\ttotal: 705ms\tremaining: 81.8ms\n",
      "896:\tlearn: 156.2243076\ttotal: 705ms\tremaining: 81ms\n",
      "897:\tlearn: 156.2063645\ttotal: 706ms\tremaining: 80.2ms\n",
      "898:\tlearn: 156.1967382\ttotal: 706ms\tremaining: 79.4ms\n",
      "899:\tlearn: 156.1830458\ttotal: 707ms\tremaining: 78.5ms\n",
      "900:\tlearn: 156.1679396\ttotal: 707ms\tremaining: 77.7ms\n",
      "901:\tlearn: 156.1116120\ttotal: 708ms\tremaining: 76.9ms\n",
      "902:\tlearn: 156.0750269\ttotal: 708ms\tremaining: 76.1ms\n",
      "903:\tlearn: 156.0345287\ttotal: 709ms\tremaining: 75.2ms\n",
      "904:\tlearn: 155.9742994\ttotal: 709ms\tremaining: 74.4ms\n",
      "905:\tlearn: 155.9622273\ttotal: 709ms\tremaining: 73.6ms\n",
      "906:\tlearn: 155.9108425\ttotal: 710ms\tremaining: 72.8ms\n",
      "907:\tlearn: 155.9000919\ttotal: 710ms\tremaining: 72ms\n",
      "908:\tlearn: 155.8575284\ttotal: 711ms\tremaining: 71.1ms\n",
      "909:\tlearn: 155.7944455\ttotal: 711ms\tremaining: 70.3ms\n",
      "910:\tlearn: 155.7355863\ttotal: 712ms\tremaining: 69.5ms\n",
      "911:\tlearn: 155.6219567\ttotal: 712ms\tremaining: 68.7ms\n",
      "912:\tlearn: 155.5986624\ttotal: 713ms\tremaining: 67.9ms\n",
      "913:\tlearn: 155.5433401\ttotal: 713ms\tremaining: 67.1ms\n",
      "914:\tlearn: 155.4887313\ttotal: 714ms\tremaining: 66.3ms\n",
      "915:\tlearn: 155.4324351\ttotal: 714ms\tremaining: 65.5ms\n",
      "916:\tlearn: 155.3848458\ttotal: 715ms\tremaining: 64.7ms\n",
      "917:\tlearn: 155.3537414\ttotal: 715ms\tremaining: 63.9ms\n",
      "918:\tlearn: 155.3382696\ttotal: 716ms\tremaining: 63.1ms\n",
      "919:\tlearn: 155.3284555\ttotal: 716ms\tremaining: 62.3ms\n",
      "920:\tlearn: 155.3077382\ttotal: 717ms\tremaining: 61.5ms\n",
      "921:\tlearn: 155.1923163\ttotal: 717ms\tremaining: 60.7ms\n",
      "922:\tlearn: 155.1599515\ttotal: 717ms\tremaining: 59.9ms\n",
      "923:\tlearn: 155.1375046\ttotal: 718ms\tremaining: 59ms\n",
      "924:\tlearn: 155.1161929\ttotal: 718ms\tremaining: 58.2ms\n",
      "925:\tlearn: 155.0844029\ttotal: 719ms\tremaining: 57.4ms\n",
      "926:\tlearn: 155.0564163\ttotal: 719ms\tremaining: 56.6ms\n",
      "927:\tlearn: 155.0090693\ttotal: 720ms\tremaining: 55.8ms\n",
      "928:\tlearn: 154.9749414\ttotal: 720ms\tremaining: 55ms\n",
      "929:\tlearn: 154.9340482\ttotal: 721ms\tremaining: 54.2ms\n",
      "930:\tlearn: 154.8652257\ttotal: 721ms\tremaining: 53.4ms\n",
      "931:\tlearn: 154.8508966\ttotal: 722ms\tremaining: 52.6ms\n",
      "932:\tlearn: 154.8281309\ttotal: 722ms\tremaining: 51.8ms\n",
      "933:\tlearn: 154.8222114\ttotal: 722ms\tremaining: 51ms\n",
      "934:\tlearn: 154.7993547\ttotal: 723ms\tremaining: 50.3ms\n",
      "935:\tlearn: 154.7360042\ttotal: 723ms\tremaining: 49.5ms\n",
      "936:\tlearn: 154.7157793\ttotal: 724ms\tremaining: 48.7ms\n",
      "937:\tlearn: 154.6951827\ttotal: 725ms\tremaining: 47.9ms\n",
      "938:\tlearn: 154.5872365\ttotal: 725ms\tremaining: 47.1ms\n",
      "939:\tlearn: 154.5814288\ttotal: 726ms\tremaining: 46.3ms\n",
      "940:\tlearn: 154.5721174\ttotal: 726ms\tremaining: 45.5ms\n",
      "941:\tlearn: 154.5609373\ttotal: 727ms\tremaining: 44.8ms\n",
      "942:\tlearn: 154.5489519\ttotal: 727ms\tremaining: 44ms\n",
      "943:\tlearn: 154.5326899\ttotal: 728ms\tremaining: 43.2ms\n",
      "944:\tlearn: 154.4811336\ttotal: 728ms\tremaining: 42.4ms\n",
      "945:\tlearn: 154.3893180\ttotal: 729ms\tremaining: 41.6ms\n",
      "946:\tlearn: 154.3331224\ttotal: 729ms\tremaining: 40.8ms\n",
      "947:\tlearn: 154.3113574\ttotal: 730ms\tremaining: 40ms\n",
      "948:\tlearn: 154.2643215\ttotal: 730ms\tremaining: 39.3ms\n",
      "949:\tlearn: 154.2541062\ttotal: 731ms\tremaining: 38.5ms\n",
      "950:\tlearn: 154.2225027\ttotal: 731ms\tremaining: 37.7ms\n",
      "951:\tlearn: 154.1521530\ttotal: 732ms\tremaining: 36.9ms\n",
      "952:\tlearn: 154.1099620\ttotal: 732ms\tremaining: 36.1ms\n",
      "953:\tlearn: 154.0933168\ttotal: 733ms\tremaining: 35.3ms\n",
      "954:\tlearn: 154.0728909\ttotal: 733ms\tremaining: 34.5ms\n",
      "955:\tlearn: 153.9551329\ttotal: 734ms\tremaining: 33.8ms\n",
      "956:\tlearn: 153.9271025\ttotal: 734ms\tremaining: 33ms\n",
      "957:\tlearn: 153.9184812\ttotal: 734ms\tremaining: 32.2ms\n",
      "958:\tlearn: 153.8528262\ttotal: 735ms\tremaining: 31.4ms\n",
      "959:\tlearn: 153.7936533\ttotal: 735ms\tremaining: 30.6ms\n",
      "960:\tlearn: 153.7356561\ttotal: 736ms\tremaining: 29.9ms\n",
      "961:\tlearn: 153.7261600\ttotal: 736ms\tremaining: 29.1ms\n",
      "962:\tlearn: 153.6800707\ttotal: 737ms\tremaining: 28.3ms\n",
      "963:\tlearn: 153.6579421\ttotal: 737ms\tremaining: 27.5ms\n",
      "964:\tlearn: 153.5559508\ttotal: 738ms\tremaining: 26.8ms\n",
      "965:\tlearn: 153.5082507\ttotal: 739ms\tremaining: 26ms\n",
      "966:\tlearn: 153.4114562\ttotal: 739ms\tremaining: 25.2ms\n",
      "967:\tlearn: 153.3922979\ttotal: 740ms\tremaining: 24.5ms\n",
      "968:\tlearn: 153.3738987\ttotal: 741ms\tremaining: 23.7ms\n",
      "969:\tlearn: 153.3503341\ttotal: 741ms\tremaining: 22.9ms\n",
      "970:\tlearn: 153.3377449\ttotal: 742ms\tremaining: 22.2ms\n",
      "971:\tlearn: 153.3134273\ttotal: 742ms\tremaining: 21.4ms\n",
      "972:\tlearn: 153.2638167\ttotal: 743ms\tremaining: 20.6ms\n",
      "973:\tlearn: 153.2399945\ttotal: 743ms\tremaining: 19.8ms\n",
      "974:\tlearn: 153.1974462\ttotal: 743ms\tremaining: 19.1ms\n",
      "975:\tlearn: 153.1813617\ttotal: 744ms\tremaining: 18.3ms\n",
      "976:\tlearn: 153.1164731\ttotal: 745ms\tremaining: 17.5ms\n",
      "977:\tlearn: 153.1077448\ttotal: 745ms\tremaining: 16.8ms\n",
      "978:\tlearn: 153.0950492\ttotal: 745ms\tremaining: 16ms\n",
      "979:\tlearn: 153.0820943\ttotal: 746ms\tremaining: 15.2ms\n",
      "980:\tlearn: 153.0772572\ttotal: 746ms\tremaining: 14.5ms\n",
      "981:\tlearn: 153.0540517\ttotal: 747ms\tremaining: 13.7ms\n",
      "982:\tlearn: 153.0355378\ttotal: 747ms\tremaining: 12.9ms\n",
      "983:\tlearn: 153.0109839\ttotal: 748ms\tremaining: 12.2ms\n",
      "984:\tlearn: 152.9303260\ttotal: 748ms\tremaining: 11.4ms\n",
      "985:\tlearn: 152.9194107\ttotal: 749ms\tremaining: 10.6ms\n",
      "986:\tlearn: 152.8989129\ttotal: 749ms\tremaining: 9.87ms\n",
      "987:\tlearn: 152.8453599\ttotal: 750ms\tremaining: 9.1ms\n",
      "988:\tlearn: 152.8076401\ttotal: 750ms\tremaining: 8.34ms\n",
      "989:\tlearn: 152.8032079\ttotal: 751ms\tremaining: 7.58ms\n",
      "990:\tlearn: 152.7700378\ttotal: 751ms\tremaining: 6.82ms\n",
      "991:\tlearn: 152.7467615\ttotal: 751ms\tremaining: 6.06ms\n",
      "992:\tlearn: 152.7092793\ttotal: 752ms\tremaining: 5.3ms\n",
      "993:\tlearn: 152.6749880\ttotal: 754ms\tremaining: 4.55ms\n",
      "994:\tlearn: 152.6205951\ttotal: 754ms\tremaining: 3.79ms\n",
      "995:\tlearn: 152.5929384\ttotal: 754ms\tremaining: 3.03ms\n",
      "996:\tlearn: 152.5901519\ttotal: 755ms\tremaining: 2.27ms\n",
      "997:\tlearn: 152.5832519\ttotal: 755ms\tremaining: 1.51ms\n",
      "998:\tlearn: 152.4952937\ttotal: 756ms\tremaining: 756us\n",
      "999:\tlearn: 152.4715817\ttotal: 756ms\tremaining: 0us\n"
     ]
    },
    {
     "name": "stdout",
     "output_type": "stream",
     "text": [
      "\n",
      "Model Name: CatBoost\n",
      "RMSE for CatBoost is: 390.39 (26.77%)\n",
      "The r2 Score of CatBoost on training data is: 92.93982867105701\n",
      "The r2 Score of CatBoost on testing data is: 51.755956434912\n",
      "           Algorithm  training_score  testing_score\n",
      "0  Linear Regression       57.037002      64.792115\n",
      "1      Decision Tree       94.767608      29.389632\n",
      "2      Random Forest       90.495671      51.004718\n",
      "3     Gradient Boost       84.363293      57.836247\n",
      "4            XGBoost       94.646326      49.381786\n",
      "5           CatBoost       92.939829      51.755956\n"
     ]
    }
   ],
   "source": [
    "\n",
    "model_classes = {\n",
    "    \"Linear Regression\": LinearRegression,\n",
    "    \"Decision Tree\": DecisionTreeRegressor,\n",
    "    \"Random Forest\": RandomForestRegressor, \n",
    "    \"Gradient Boost\": GradientBoostingRegressor,\n",
    "    \"XGBoost\": XGBRegressor,\n",
    "    \"CatBoost\": CatBoostRegressor\n",
    "\n",
    "}\n",
    "\n",
    "trained_models = {}\n",
    "results = []\n",
    "training_scores = []  # List to store training scores\n",
    "testing_scores = []   # List to store testing scores\n",
    "\n",
    "\n",
    "    \n",
    "for model_name, model_class in model_classes.items():\n",
    "    model_instance = model_class()\n",
    "        \n",
    "    model_instance.fit(X_train, y_train)\n",
    "    X_train_pred = model_instance.predict(X_train)\n",
    "    predicted_value = model_instance.predict(X_test)\n",
    "    training_score = r2_score(y_train, X_train_pred) * 100\n",
    "    testing_score = r2_score(y_test, predicted_value) * 100\n",
    "        \n",
    "    print()\n",
    "    print(f\"Model Name: {model_name}\")\n",
    "    rmse = np.sqrt(metrics.mean_squared_error(y_test, predicted_value))\n",
    "    percentage_rmse = (rmse / laptop_data['Price'].mean()) * 100\n",
    "\n",
    "    print(f\"RMSE for {model_name} is: {rmse:.2f} ({percentage_rmse:.2f}%)\")\n",
    "    \n",
    "    print(f\"The r2 Score of {model_name} on training data is: {training_score}\")\n",
    "    print(f\"The r2 Score of {model_name} on testing data is: {testing_score}\")\n",
    "        \n",
    "    trained_models[model_name] = model_instance\n",
    "        \n",
    "    results.append({\n",
    "        'Algorithm': model_name,\n",
    "        'training_score': training_score,\n",
    "        'testing_score': testing_score\n",
    "    })\n",
    "    \n",
    "    # Append scores to the lists\n",
    "    training_scores.append(training_score)\n",
    "    testing_scores.append(testing_score)\n",
    "    \n",
    "# Convert the results to a DataFrame for better presentation\n",
    "results_df = pd.DataFrame(results)\n",
    "\n",
    "# Print the results\n",
    "print(results_df)\n",
    "\n",
    "\n",
    "\n",
    "model_instance = [model_classes[model_name]() for model_name in model_classes]\n",
    "    \n"
   ]
  },
  {
   "cell_type": "code",
   "execution_count": 287,
   "id": "64d0656d",
   "metadata": {},
   "outputs": [
    {
     "data": {
      "text/html": [
       "<div>\n",
       "<style scoped>\n",
       "    .dataframe tbody tr th:only-of-type {\n",
       "        vertical-align: middle;\n",
       "    }\n",
       "\n",
       "    .dataframe tbody tr th {\n",
       "        vertical-align: top;\n",
       "    }\n",
       "\n",
       "    .dataframe thead th {\n",
       "        text-align: right;\n",
       "    }\n",
       "</style>\n",
       "<table border=\"1\" class=\"dataframe\">\n",
       "  <thead>\n",
       "    <tr style=\"text-align: right;\">\n",
       "      <th></th>\n",
       "      <th>Algorithm</th>\n",
       "      <th>training_score</th>\n",
       "      <th>testing_score</th>\n",
       "    </tr>\n",
       "  </thead>\n",
       "  <tbody>\n",
       "    <tr>\n",
       "      <th>0</th>\n",
       "      <td>Linear Regression</td>\n",
       "      <td>57.037002</td>\n",
       "      <td>64.792115</td>\n",
       "    </tr>\n",
       "    <tr>\n",
       "      <th>1</th>\n",
       "      <td>Decision Tree</td>\n",
       "      <td>94.767608</td>\n",
       "      <td>29.389632</td>\n",
       "    </tr>\n",
       "    <tr>\n",
       "      <th>2</th>\n",
       "      <td>Random Forest</td>\n",
       "      <td>90.495671</td>\n",
       "      <td>51.004718</td>\n",
       "    </tr>\n",
       "    <tr>\n",
       "      <th>3</th>\n",
       "      <td>Gradient Boost</td>\n",
       "      <td>84.363293</td>\n",
       "      <td>57.836247</td>\n",
       "    </tr>\n",
       "    <tr>\n",
       "      <th>4</th>\n",
       "      <td>XGBoost</td>\n",
       "      <td>94.646326</td>\n",
       "      <td>49.381786</td>\n",
       "    </tr>\n",
       "    <tr>\n",
       "      <th>5</th>\n",
       "      <td>CatBoost</td>\n",
       "      <td>92.939829</td>\n",
       "      <td>51.755956</td>\n",
       "    </tr>\n",
       "  </tbody>\n",
       "</table>\n",
       "</div>"
      ],
      "text/plain": [
       "           Algorithm  training_score  testing_score\n",
       "0  Linear Regression       57.037002      64.792115\n",
       "1      Decision Tree       94.767608      29.389632\n",
       "2      Random Forest       90.495671      51.004718\n",
       "3     Gradient Boost       84.363293      57.836247\n",
       "4            XGBoost       94.646326      49.381786\n",
       "5           CatBoost       92.939829      51.755956"
      ]
     },
     "execution_count": 287,
     "metadata": {},
     "output_type": "execute_result"
    }
   ],
   "source": [
    "model_names = [\"Linear Regression\",\"Decision Tree\",\"Random Forest\",\"Gradient Boost\",\"XGBoost\",\"CatBoost\"]\n",
    "\n",
    "show_results = pd.DataFrame({\"Algorithm\":model_names,\n",
    "                           \"training_score\":training_scores,\n",
    "                           \"testing_score\":testing_scores})\n",
    "show_results"
   ]
  },
  {
   "cell_type": "code",
   "execution_count": 288,
   "id": "64655c1f",
   "metadata": {},
   "outputs": [
    {
     "data": {
      "text/plain": [
       "<matplotlib.legend.Legend at 0x1c0fa7f9890>"
      ]
     },
     "execution_count": 288,
     "metadata": {},
     "output_type": "execute_result"
    },
    {
     "data": {
      "image/png": "[encoded data removed]",
      "text/plain": [
       "<Figure size 1200x600 with 1 Axes>"
      ]
     },
     "metadata": {},
     "output_type": "display_data"
    }
   ],
   "source": [
    "show_results.plot(x='Algorithm',y=['training_score','testing_score'],kind='bar',figsize=(12,6))\n",
    "plt.xticks(rotation=33)\n",
    "plt.legend(loc='upper left', bbox_to_anchor=(1, 1))"
   ]
  },
  {
   "cell_type": "code",
   "execution_count": 289,
   "id": "560c6487",
   "metadata": {},
   "outputs": [
    {
     "data": {
      "application/vnd.plotly.v1+json": {
       "config": {
        "plotlyServerURL": "https://plot.ly"
       },
       "data": [
        {
         "alignmentgroup": "True",
         "hovertemplate": "variable=training_score<br>Algorithm=%{x}<br>R2 Score (%)=%{y}<extra></extra>",
         "legendgroup": "training_score",
         "marker": {
          "color": "#636efa",
          "pattern": {
           "shape": ""
          }
         },
         "name": "training_score",
         "offsetgroup": "training_score",
         "orientation": "v",
         "showlegend": true,
         "textposition": "auto",
         "type": "bar",
         "x": [
          "Linear Regression",
          "Decision Tree",
          "Random Forest",
          "Gradient Boost",
          "XGBoost",
          "CatBoost"
         ],
         "xaxis": "x",
         "y": [
          57.03700182539907,
          94.76760803230057,
          90.49567145929907,
          84.36329259785944,
          94.64632557926332,
          92.93982867105701
         ],
         "yaxis": "y"
        },
        {
         "alignmentgroup": "True",
         "hovertemplate": "variable=testing_score<br>Algorithm=%{x}<br>R2 Score (%)=%{y}<extra></extra>",
         "legendgroup": "testing_score",
         "marker": {
          "color": "#EF553B",
          "pattern": {
           "shape": ""
          }
         },
         "name": "testing_score",
         "offsetgroup": "testing_score",
         "orientation": "v",
         "showlegend": true,
         "textposition": "auto",
         "type": "bar",
         "x": [
          "Linear Regression",
          "Decision Tree",
          "Random Forest",
          "Gradient Boost",
          "XGBoost",
          "CatBoost"
         ],
         "xaxis": "x",
         "y": [
          64.79211536632826,
          29.38963151226075,
          51.0047177448324,
          57.8362467150279,
          49.381786186236035,
          51.755956434912
         ],
         "yaxis": "y"
        }
       ],
       "layout": {
        "barmode": "relative",
        "height": 500,
        "legend": {
         "title": {
          "text": "variable"
         },
         "tracegroupgap": 0
        },
        "template": {
         "data": {
          "bar": [
           {
            "error_x": {
             "color": "#2a3f5f"
            },
            "error_y": {
             "color": "#2a3f5f"
            },
            "marker": {
             "line": {
              "color": "#E5ECF6",
              "width": 0.5
             },
             "pattern": {
              "fillmode": "overlay",
              "size": 10,
              "solidity": 0.2
             }
            },
            "type": "bar"
           }
          ],
          "barpolar": [
           {
            "marker": {
             "line": {
              "color": "#E5ECF6",
              "width": 0.5
             },
             "pattern": {
              "fillmode": "overlay",
              "size": 10,
              "solidity": 0.2
             }
            },
            "type": "barpolar"
           }
          ],
          "carpet": [
           {
            "aaxis": {
             "endlinecolor": "#2a3f5f",
             "gridcolor": "white",
             "linecolor": "white",
             "minorgridcolor": "white",
             "startlinecolor": "#2a3f5f"
            },
            "baxis": {
             "endlinecolor": "#2a3f5f",
             "gridcolor": "white",
             "linecolor": "white",
             "minorgridcolor": "white",
             "startlinecolor": "#2a3f5f"
            },
            "type": "carpet"
           }
          ],
          "choropleth": [
           {
            "colorbar": {
             "outlinewidth": 0,
             "ticks": ""
            },
            "type": "choropleth"
           }
          ],
          "contour": [
           {
            "colorbar": {
             "outlinewidth": 0,
             "ticks": ""
            },
            "colorscale": [
             [
              0,
              "#0d0887"
             ],
             [
              0.1111111111111111,
              "#46039f"
             ],
             [
              0.2222222222222222,
              "#7201a8"
             ],
             [
              0.3333333333333333,
              "#9c179e"
             ],
             [
              0.4444444444444444,
              "#bd3786"
             ],
             [
              0.5555555555555556,
              "#d8576b"
             ],
             [
              0.6666666666666666,
              "#ed7953"
             ],
             [
              0.7777777777777778,
              "#fb9f3a"
             ],
             [
              0.8888888888888888,
              "#fdca26"
             ],
             [
              1,
              "#f0f921"
             ]
            ],
            "type": "contour"
           }
          ],
          "contourcarpet": [
           {
            "colorbar": {
             "outlinewidth": 0,
             "ticks": ""
            },
            "type": "contourcarpet"
           }
          ],
          "heatmap": [
           {
            "colorbar": {
             "outlinewidth": 0,
             "ticks": ""
            },
            "colorscale": [
             [
              0,
              "#0d0887"
             ],
             [
              0.1111111111111111,
              "#46039f"
             ],
             [
              0.2222222222222222,
              "#7201a8"
             ],
             [
              0.3333333333333333,
              "#9c179e"
             ],
             [
              0.4444444444444444,
              "#bd3786"
             ],
             [
              0.5555555555555556,
              "#d8576b"
             ],
             [
              0.6666666666666666,
              "#ed7953"
             ],
             [
              0.7777777777777778,
              "#fb9f3a"
             ],
             [
              0.8888888888888888,
              "#fdca26"
             ],
             [
              1,
              "#f0f921"
             ]
            ],
            "type": "heatmap"
           }
          ],
          "heatmapgl": [
           {
            "colorbar": {
             "outlinewidth": 0,
             "ticks": ""
            },
            "colorscale": [
             [
              0,
              "#0d0887"
             ],
             [
              0.1111111111111111,
              "#46039f"
             ],
             [
              0.2222222222222222,
              "#7201a8"
             ],
             [
              0.3333333333333333,
              "#9c179e"
             ],
             [
              0.4444444444444444,
              "#bd3786"
             ],
             [
              0.5555555555555556,
              "#d8576b"
             ],
             [
              0.6666666666666666,
              "#ed7953"
             ],
             [
              0.7777777777777778,
              "#fb9f3a"
             ],
             [
              0.8888888888888888,
              "#fdca26"
             ],
             [
              1,
              "#f0f921"
             ]
            ],
            "type": "heatmapgl"
           }
          ],
          "histogram": [
           {
            "marker": {
             "pattern": {
              "fillmode": "overlay",
              "size": 10,
              "solidity": 0.2
             }
            },
            "type": "histogram"
           }
          ],
          "histogram2d": [
           {
            "colorbar": {
             "outlinewidth": 0,
             "ticks": ""
            },
            "colorscale": [
             [
              0,
              "#0d0887"
             ],
             [
              0.1111111111111111,
              "#46039f"
             ],
             [
              0.2222222222222222,
              "#7201a8"
             ],
             [
              0.3333333333333333,
              "#9c179e"
             ],
             [
              0.4444444444444444,
              "#bd3786"
             ],
             [
              0.5555555555555556,
              "#d8576b"
             ],
             [
              0.6666666666666666,
              "#ed7953"
             ],
             [
              0.7777777777777778,
              "#fb9f3a"
             ],
             [
              0.8888888888888888,
              "#fdca26"
             ],
             [
              1,
              "#f0f921"
             ]
            ],
            "type": "histogram2d"
           }
          ],
          "histogram2dcontour": [
           {
            "colorbar": {
             "outlinewidth": 0,
             "ticks": ""
            },
            "colorscale": [
             [
              0,
              "#0d0887"
             ],
             [
              0.1111111111111111,
              "#46039f"
             ],
             [
              0.2222222222222222,
              "#7201a8"
             ],
             [
              0.3333333333333333,
              "#9c179e"
             ],
             [
              0.4444444444444444,
              "#bd3786"
             ],
             [
              0.5555555555555556,
              "#d8576b"
             ],
             [
              0.6666666666666666,
              "#ed7953"
             ],
             [
              0.7777777777777778,
              "#fb9f3a"
             ],
             [
              0.8888888888888888,
              "#fdca26"
             ],
             [
              1,
              "#f0f921"
             ]
            ],
            "type": "histogram2dcontour"
           }
          ],
          "mesh3d": [
           {
            "colorbar": {
             "outlinewidth": 0,
             "ticks": ""
            },
            "type": "mesh3d"
           }
          ],
          "parcoords": [
           {
            "line": {
             "colorbar": {
              "outlinewidth": 0,
              "ticks": ""
             }
            },
            "type": "parcoords"
           }
          ],
          "pie": [
           {
            "automargin": true,
            "type": "pie"
           }
          ],
          "scatter": [
           {
            "fillpattern": {
             "fillmode": "overlay",
             "size": 10,
             "solidity": 0.2
            },
            "type": "scatter"
           }
          ],
          "scatter3d": [
           {
            "line": {
             "colorbar": {
              "outlinewidth": 0,
              "ticks": ""
             }
            },
            "marker": {
             "colorbar": {
              "outlinewidth": 0,
              "ticks": ""
             }
            },
            "type": "scatter3d"
           }
          ],
          "scattercarpet": [
           {
            "marker": {
             "colorbar": {
              "outlinewidth": 0,
              "ticks": ""
             }
            },
            "type": "scattercarpet"
           }
          ],
          "scattergeo": [
           {
            "marker": {
             "colorbar": {
              "outlinewidth": 0,
              "ticks": ""
             }
            },
            "type": "scattergeo"
           }
          ],
          "scattergl": [
           {
            "marker": {
             "colorbar": {
              "outlinewidth": 0,
              "ticks": ""
             }
            },
            "type": "scattergl"
           }
          ],
          "scattermapbox": [
           {
            "marker": {
             "colorbar": {
              "outlinewidth": 0,
              "ticks": ""
             }
            },
            "type": "scattermapbox"
           }
          ],
          "scatterpolar": [
           {
            "marker": {
             "colorbar": {
              "outlinewidth": 0,
              "ticks": ""
             }
            },
            "type": "scatterpolar"
           }
          ],
          "scatterpolargl": [
           {
            "marker": {
             "colorbar": {
              "outlinewidth": 0,
              "ticks": ""
             }
            },
            "type": "scatterpolargl"
           }
          ],
          "scatterternary": [
           {
            "marker": {
             "colorbar": {
              "outlinewidth": 0,
              "ticks": ""
             }
            },
            "type": "scatterternary"
           }
          ],
          "surface": [
           {
            "colorbar": {
             "outlinewidth": 0,
             "ticks": ""
            },
            "colorscale": [
             [
              0,
              "#0d0887"
             ],
             [
              0.1111111111111111,
              "#46039f"
             ],
             [
              0.2222222222222222,
              "#7201a8"
             ],
             [
              0.3333333333333333,
              "#9c179e"
             ],
             [
              0.4444444444444444,
              "#bd3786"
             ],
             [
              0.5555555555555556,
              "#d8576b"
             ],
             [
              0.6666666666666666,
              "#ed7953"
             ],
             [
              0.7777777777777778,
              "#fb9f3a"
             ],
             [
              0.8888888888888888,
              "#fdca26"
             ],
             [
              1,
              "#f0f921"
             ]
            ],
            "type": "surface"
           }
          ],
          "table": [
           {
            "cells": {
             "fill": {
              "color": "#EBF0F8"
             },
             "line": {
              "color": "white"
             }
            },
            "header": {
             "fill": {
              "color": "#C8D4E3"
             },
             "line": {
              "color": "white"
             }
            },
            "type": "table"
           }
          ]
         },
         "layout": {
          "annotationdefaults": {
           "arrowcolor": "#2a3f5f",
           "arrowhead": 0,
           "arrowwidth": 1
          },
          "autotypenumbers": "strict",
          "coloraxis": {
           "colorbar": {
            "outlinewidth": 0,
            "ticks": ""
           }
          },
          "colorscale": {
           "diverging": [
            [
             0,
             "#8e0152"
            ],
            [
             0.1,
             "#c51b7d"
            ],
            [
             0.2,
             "#de77ae"
            ],
            [
             0.3,
             "#f1b6da"
            ],
            [
             0.4,
             "#fde0ef"
            ],
            [
             0.5,
             "#f7f7f7"
            ],
            [
             0.6,
             "#e6f5d0"
            ],
            [
             0.7,
             "#b8e186"
            ],
            [
             0.8,
             "#7fbc41"
            ],
            [
             0.9,
             "#4d9221"
            ],
            [
             1,
             "#276419"
            ]
           ],
           "sequential": [
            [
             0,
             "#0d0887"
            ],
            [
             0.1111111111111111,
             "#46039f"
            ],
            [
             0.2222222222222222,
             "#7201a8"
            ],
            [
             0.3333333333333333,
             "#9c179e"
            ],
            [
             0.4444444444444444,
             "#bd3786"
            ],
            [
             0.5555555555555556,
             "#d8576b"
            ],
            [
             0.6666666666666666,
             "#ed7953"
            ],
            [
             0.7777777777777778,
             "#fb9f3a"
            ],
            [
             0.8888888888888888,
             "#fdca26"
            ],
            [
             1,
             "#f0f921"
            ]
           ],
           "sequentialminus": [
            [
             0,
             "#0d0887"
            ],
            [
             0.1111111111111111,
             "#46039f"
            ],
            [
             0.2222222222222222,
             "#7201a8"
            ],
            [
             0.3333333333333333,
             "#9c179e"
            ],
            [
             0.4444444444444444,
             "#bd3786"
            ],
            [
             0.5555555555555556,
             "#d8576b"
            ],
            [
             0.6666666666666666,
             "#ed7953"
            ],
            [
             0.7777777777777778,
             "#fb9f3a"
            ],
            [
             0.8888888888888888,
             "#fdca26"
            ],
            [
             1,
             "#f0f921"
            ]
           ]
          },
          "colorway": [
           "#636efa",
           "#EF553B",
           "#00cc96",
           "#ab63fa",
           "#FFA15A",
           "#19d3f3",
           "#FF6692",
           "#B6E880",
           "#FF97FF",
           "#FECB52"
          ],
          "font": {
           "color": "#2a3f5f"
          },
          "geo": {
           "bgcolor": "white",
           "lakecolor": "white",
           "landcolor": "#E5ECF6",
           "showlakes": true,
           "showland": true,
           "subunitcolor": "white"
          },
          "hoverlabel": {
           "align": "left"
          },
          "hovermode": "closest",
          "mapbox": {
           "style": "light"
          },
          "paper_bgcolor": "white",
          "plot_bgcolor": "#E5ECF6",
          "polar": {
           "angularaxis": {
            "gridcolor": "white",
            "linecolor": "white",
            "ticks": ""
           },
           "bgcolor": "#E5ECF6",
           "radialaxis": {
            "gridcolor": "white",
            "linecolor": "white",
            "ticks": ""
           }
          },
          "scene": {
           "xaxis": {
            "backgroundcolor": "#E5ECF6",
            "gridcolor": "white",
            "gridwidth": 2,
            "linecolor": "white",
            "showbackground": true,
            "ticks": "",
            "zerolinecolor": "white"
           },
           "yaxis": {
            "backgroundcolor": "#E5ECF6",
            "gridcolor": "white",
            "gridwidth": 2,
            "linecolor": "white",
            "showbackground": true,
            "ticks": "",
            "zerolinecolor": "white"
           },
           "zaxis": {
            "backgroundcolor": "#E5ECF6",
            "gridcolor": "white",
            "gridwidth": 2,
            "linecolor": "white",
            "showbackground": true,
            "ticks": "",
            "zerolinecolor": "white"
           }
          },
          "shapedefaults": {
           "line": {
            "color": "#2a3f5f"
           }
          },
          "ternary": {
           "aaxis": {
            "gridcolor": "white",
            "linecolor": "white",
            "ticks": ""
           },
           "baxis": {
            "gridcolor": "white",
            "linecolor": "white",
            "ticks": ""
           },
           "bgcolor": "#E5ECF6",
           "caxis": {
            "gridcolor": "white",
            "linecolor": "white",
            "ticks": ""
           }
          },
          "title": {
           "x": 0.05
          },
          "xaxis": {
           "automargin": true,
           "gridcolor": "white",
           "linecolor": "white",
           "ticks": "",
           "title": {
            "standoff": 15
           },
           "zerolinecolor": "white",
           "zerolinewidth": 2
          },
          "yaxis": {
           "automargin": true,
           "gridcolor": "white",
           "linecolor": "white",
           "ticks": "",
           "title": {
            "standoff": 15
           },
           "zerolinecolor": "white",
           "zerolinewidth": 2
          }
         }
        },
        "title": {
         "text": "Training and Testing Scores for Different Algorithms"
        },
        "width": 800,
        "xaxis": {
         "anchor": "y",
         "domain": [
          0,
          1
         ],
         "title": {
          "text": "Algorithm"
         }
        },
        "yaxis": {
         "anchor": "x",
         "domain": [
          0,
          1
         ],
         "title": {
          "text": "R2 Score (%)"
         }
        }
       }
      },
      "text/html": [
       "<div>                            <div id=\"0150a712-c9ac-478d-a1cd-ff193d773c36\" class=\"plotly-graph-div\" style=\"height:500px; width:800px;\"></div>            <script type=\"text/javascript\">                require([\"plotly\"], function(Plotly) {                    window.PLOTLYENV=window.PLOTLYENV || {};                                    if (document.getElementById(\"0150a712-c9ac-478d-a1cd-ff193d773c36\")) {                    Plotly.newPlot(                        \"0150a712-c9ac-478d-a1cd-ff193d773c36\",                        [{\"alignmentgroup\":\"True\",\"hovertemplate\":\"variable=training_score<br>Algorithm=%{x}<br>R2 Score (%)=%{y}<extra></extra>\",\"legendgroup\":\"training_score\",\"marker\":{\"color\":\"#636efa\",\"pattern\":{\"shape\":\"\"}},\"name\":\"training_score\",\"offsetgroup\":\"training_score\",\"orientation\":\"v\",\"showlegend\":true,\"textposition\":\"auto\",\"x\":[\"Linear Regression\",\"Decision Tree\",\"Random Forest\",\"Gradient Boost\",\"XGBoost\",\"CatBoost\"],\"xaxis\":\"x\",\"y\":[57.03700182539907,94.76760803230057,90.49567145929907,84.36329259785944,94.64632557926332,92.93982867105701],\"yaxis\":\"y\",\"type\":\"bar\"},{\"alignmentgroup\":\"True\",\"hovertemplate\":\"variable=testing_score<br>Algorithm=%{x}<br>R2 Score (%)=%{y}<extra></extra>\",\"legendgroup\":\"testing_score\",\"marker\":{\"color\":\"#EF553B\",\"pattern\":{\"shape\":\"\"}},\"name\":\"testing_score\",\"offsetgroup\":\"testing_score\",\"orientation\":\"v\",\"showlegend\":true,\"textposition\":\"auto\",\"x\":[\"Linear Regression\",\"Decision Tree\",\"Random Forest\",\"Gradient Boost\",\"XGBoost\",\"CatBoost\"],\"xaxis\":\"x\",\"y\":[64.79211536632826,29.38963151226075,51.0047177448324,57.8362467150279,49.381786186236035,51.755956434912],\"yaxis\":\"y\",\"type\":\"bar\"}],                        {\"template\":{\"data\":{\"histogram2dcontour\":[{\"type\":\"histogram2dcontour\",\"colorbar\":{\"outlinewidth\":0,\"ticks\":\"\"},\"colorscale\":[[0.0,\"#0d0887\"],[0.1111111111111111,\"#46039f\"],[0.2222222222222222,\"#7201a8\"],[0.3333333333333333,\"#9c179e\"],[0.4444444444444444,\"#bd3786\"],[0.5555555555555556,\"#d8576b\"],[0.6666666666666666,\"#ed7953\"],[0.7777777777777778,\"#fb9f3a\"],[0.8888888888888888,\"#fdca26\"],[1.0,\"#f0f921\"]]}],\"choropleth\":[{\"type\":\"choropleth\",\"colorbar\":{\"outlinewidth\":0,\"ticks\":\"\"}}],\"histogram2d\":[{\"type\":\"histogram2d\",\"colorbar\":{\"outlinewidth\":0,\"ticks\":\"\"},\"colorscale\":[[0.0,\"#0d0887\"],[0.1111111111111111,\"#46039f\"],[0.2222222222222222,\"#7201a8\"],[0.3333333333333333,\"#9c179e\"],[0.4444444444444444,\"#bd3786\"],[0.5555555555555556,\"#d8576b\"],[0.6666666666666666,\"#ed7953\"],[0.7777777777777778,\"#fb9f3a\"],[0.8888888888888888,\"#fdca26\"],[1.0,\"#f0f921\"]]}],\"heatmap\":[{\"type\":\"heatmap\",\"colorbar\":{\"outlinewidth\":0,\"ticks\":\"\"},\"colorscale\":[[0.0,\"#0d0887\"],[0.1111111111111111,\"#46039f\"],[0.2222222222222222,\"#7201a8\"],[0.3333333333333333,\"#9c179e\"],[0.4444444444444444,\"#bd3786\"],[0.5555555555555556,\"#d8576b\"],[0.6666666666666666,\"#ed7953\"],[0.7777777777777778,\"#fb9f3a\"],[0.8888888888888888,\"#fdca26\"],[1.0,\"#f0f921\"]]}],\"heatmapgl\":[{\"type\":\"heatmapgl\",\"colorbar\":{\"outlinewidth\":0,\"ticks\":\"\"},\"colorscale\":[[0.0,\"#0d0887\"],[0.1111111111111111,\"#46039f\"],[0.2222222222222222,\"#7201a8\"],[0.3333333333333333,\"#9c179e\"],[0.4444444444444444,\"#bd3786\"],[0.5555555555555556,\"#d8576b\"],[0.6666666666666666,\"#ed7953\"],[0.7777777777777778,\"#fb9f3a\"],[0.8888888888888888,\"#fdca26\"],[1.0,\"#f0f921\"]]}],\"contourcarpet\":[{\"type\":\"contourcarpet\",\"colorbar\":{\"outlinewidth\":0,\"ticks\":\"\"}}],\"contour\":[{\"type\":\"contour\",\"colorbar\":{\"outlinewidth\":0,\"ticks\":\"\"},\"colorscale\":[[0.0,\"#0d0887\"],[0.1111111111111111,\"#46039f\"],[0.2222222222222222,\"#7201a8\"],[0.3333333333333333,\"#9c179e\"],[0.4444444444444444,\"#bd3786\"],[0.5555555555555556,\"#d8576b\"],[0.6666666666666666,\"#ed7953\"],[0.7777777777777778,\"#fb9f3a\"],[0.8888888888888888,\"#fdca26\"],[1.0,\"#f0f921\"]]}],\"surface\":[{\"type\":\"surface\",\"colorbar\":{\"outlinewidth\":0,\"ticks\":\"\"},\"colorscale\":[[0.0,\"#0d0887\"],[0.1111111111111111,\"#46039f\"],[0.2222222222222222,\"#7201a8\"],[0.3333333333333333,\"#9c179e\"],[0.4444444444444444,\"#bd3786\"],[0.5555555555555556,\"#d8576b\"],[0.6666666666666666,\"#ed7953\"],[0.7777777777777778,\"#fb9f3a\"],[0.8888888888888888,\"#fdca26\"],[1.0,\"#f0f921\"]]}],\"mesh3d\":[{\"type\":\"mesh3d\",\"colorbar\":{\"outlinewidth\":0,\"ticks\":\"\"}}],\"scatter\":[{\"fillpattern\":{\"fillmode\":\"overlay\",\"size\":10,\"solidity\":0.2},\"type\":\"scatter\"}],\"parcoords\":[{\"type\":\"parcoords\",\"line\":{\"colorbar\":{\"outlinewidth\":0,\"ticks\":\"\"}}}],\"scatterpolargl\":[{\"type\":\"scatterpolargl\",\"marker\":{\"colorbar\":{\"outlinewidth\":0,\"ticks\":\"\"}}}],\"bar\":[{\"error_x\":{\"color\":\"#2a3f5f\"},\"error_y\":{\"color\":\"#2a3f5f\"},\"marker\":{\"line\":{\"color\":\"#E5ECF6\",\"width\":0.5},\"pattern\":{\"fillmode\":\"overlay\",\"size\":10,\"solidity\":0.2}},\"type\":\"bar\"}],\"scattergeo\":[{\"type\":\"scattergeo\",\"marker\":{\"colorbar\":{\"outlinewidth\":0,\"ticks\":\"\"}}}],\"scatterpolar\":[{\"type\":\"scatterpolar\",\"marker\":{\"colorbar\":{\"outlinewidth\":0,\"ticks\":\"\"}}}],\"histogram\":[{\"marker\":{\"pattern\":{\"fillmode\":\"overlay\",\"size\":10,\"solidity\":0.2}},\"type\":\"histogram\"}],\"scattergl\":[{\"type\":\"scattergl\",\"marker\":{\"colorbar\":{\"outlinewidth\":0,\"ticks\":\"\"}}}],\"scatter3d\":[{\"type\":\"scatter3d\",\"line\":{\"colorbar\":{\"outlinewidth\":0,\"ticks\":\"\"}},\"marker\":{\"colorbar\":{\"outlinewidth\":0,\"ticks\":\"\"}}}],\"scattermapbox\":[{\"type\":\"scattermapbox\",\"marker\":{\"colorbar\":{\"outlinewidth\":0,\"ticks\":\"\"}}}],\"scatterternary\":[{\"type\":\"scatterternary\",\"marker\":{\"colorbar\":{\"outlinewidth\":0,\"ticks\":\"\"}}}],\"scattercarpet\":[{\"type\":\"scattercarpet\",\"marker\":{\"colorbar\":{\"outlinewidth\":0,\"ticks\":\"\"}}}],\"carpet\":[{\"aaxis\":{\"endlinecolor\":\"#2a3f5f\",\"gridcolor\":\"white\",\"linecolor\":\"white\",\"minorgridcolor\":\"white\",\"startlinecolor\":\"#2a3f5f\"},\"baxis\":{\"endlinecolor\":\"#2a3f5f\",\"gridcolor\":\"white\",\"linecolor\":\"white\",\"minorgridcolor\":\"white\",\"startlinecolor\":\"#2a3f5f\"},\"type\":\"carpet\"}],\"table\":[{\"cells\":{\"fill\":{\"color\":\"#EBF0F8\"},\"line\":{\"color\":\"white\"}},\"header\":{\"fill\":{\"color\":\"#C8D4E3\"},\"line\":{\"color\":\"white\"}},\"type\":\"table\"}],\"barpolar\":[{\"marker\":{\"line\":{\"color\":\"#E5ECF6\",\"width\":0.5},\"pattern\":{\"fillmode\":\"overlay\",\"size\":10,\"solidity\":0.2}},\"type\":\"barpolar\"}],\"pie\":[{\"automargin\":true,\"type\":\"pie\"}]},\"layout\":{\"autotypenumbers\":\"strict\",\"colorway\":[\"#636efa\",\"#EF553B\",\"#00cc96\",\"#ab63fa\",\"#FFA15A\",\"#19d3f3\",\"#FF6692\",\"#B6E880\",\"#FF97FF\",\"#FECB52\"],\"font\":{\"color\":\"#2a3f5f\"},\"hovermode\":\"closest\",\"hoverlabel\":{\"align\":\"left\"},\"paper_bgcolor\":\"white\",\"plot_bgcolor\":\"#E5ECF6\",\"polar\":{\"bgcolor\":\"#E5ECF6\",\"angularaxis\":{\"gridcolor\":\"white\",\"linecolor\":\"white\",\"ticks\":\"\"},\"radialaxis\":{\"gridcolor\":\"white\",\"linecolor\":\"white\",\"ticks\":\"\"}},\"ternary\":{\"bgcolor\":\"#E5ECF6\",\"aaxis\":{\"gridcolor\":\"white\",\"linecolor\":\"white\",\"ticks\":\"\"},\"baxis\":{\"gridcolor\":\"white\",\"linecolor\":\"white\",\"ticks\":\"\"},\"caxis\":{\"gridcolor\":\"white\",\"linecolor\":\"white\",\"ticks\":\"\"}},\"coloraxis\":{\"colorbar\":{\"outlinewidth\":0,\"ticks\":\"\"}},\"colorscale\":{\"sequential\":[[0.0,\"#0d0887\"],[0.1111111111111111,\"#46039f\"],[0.2222222222222222,\"#7201a8\"],[0.3333333333333333,\"#9c179e\"],[0.4444444444444444,\"#bd3786\"],[0.5555555555555556,\"#d8576b\"],[0.6666666666666666,\"#ed7953\"],[0.7777777777777778,\"#fb9f3a\"],[0.8888888888888888,\"#fdca26\"],[1.0,\"#f0f921\"]],\"sequentialminus\":[[0.0,\"#0d0887\"],[0.1111111111111111,\"#46039f\"],[0.2222222222222222,\"#7201a8\"],[0.3333333333333333,\"#9c179e\"],[0.4444444444444444,\"#bd3786\"],[0.5555555555555556,\"#d8576b\"],[0.6666666666666666,\"#ed7953\"],[0.7777777777777778,\"#fb9f3a\"],[0.8888888888888888,\"#fdca26\"],[1.0,\"#f0f921\"]],\"diverging\":[[0,\"#8e0152\"],[0.1,\"#c51b7d\"],[0.2,\"#de77ae\"],[0.3,\"#f1b6da\"],[0.4,\"#fde0ef\"],[0.5,\"#f7f7f7\"],[0.6,\"#e6f5d0\"],[0.7,\"#b8e186\"],[0.8,\"#7fbc41\"],[0.9,\"#4d9221\"],[1,\"#276419\"]]},\"xaxis\":{\"gridcolor\":\"white\",\"linecolor\":\"white\",\"ticks\":\"\",\"title\":{\"standoff\":15},\"zerolinecolor\":\"white\",\"automargin\":true,\"zerolinewidth\":2},\"yaxis\":{\"gridcolor\":\"white\",\"linecolor\":\"white\",\"ticks\":\"\",\"title\":{\"standoff\":15},\"zerolinecolor\":\"white\",\"automargin\":true,\"zerolinewidth\":2},\"scene\":{\"xaxis\":{\"backgroundcolor\":\"#E5ECF6\",\"gridcolor\":\"white\",\"linecolor\":\"white\",\"showbackground\":true,\"ticks\":\"\",\"zerolinecolor\":\"white\",\"gridwidth\":2},\"yaxis\":{\"backgroundcolor\":\"#E5ECF6\",\"gridcolor\":\"white\",\"linecolor\":\"white\",\"showbackground\":true,\"ticks\":\"\",\"zerolinecolor\":\"white\",\"gridwidth\":2},\"zaxis\":{\"backgroundcolor\":\"#E5ECF6\",\"gridcolor\":\"white\",\"linecolor\":\"white\",\"showbackground\":true,\"ticks\":\"\",\"zerolinecolor\":\"white\",\"gridwidth\":2}},\"shapedefaults\":{\"line\":{\"color\":\"#2a3f5f\"}},\"annotationdefaults\":{\"arrowcolor\":\"#2a3f5f\",\"arrowhead\":0,\"arrowwidth\":1},\"geo\":{\"bgcolor\":\"white\",\"landcolor\":\"#E5ECF6\",\"subunitcolor\":\"white\",\"showland\":true,\"showlakes\":true,\"lakecolor\":\"white\"},\"title\":{\"x\":0.05},\"mapbox\":{\"style\":\"light\"}}},\"xaxis\":{\"anchor\":\"y\",\"domain\":[0.0,1.0],\"title\":{\"text\":\"Algorithm\"}},\"yaxis\":{\"anchor\":\"x\",\"domain\":[0.0,1.0],\"title\":{\"text\":\"R2 Score (%)\"}},\"legend\":{\"title\":{\"text\":\"variable\"},\"tracegroupgap\":0},\"title\":{\"text\":\"Training and Testing Scores for Different Algorithms\"},\"barmode\":\"relative\",\"height\":500,\"width\":800},                        {\"responsive\": true}                    ).then(function(){\n",
       "                            \n",
       "var gd = document.getElementById('0150a712-c9ac-478d-a1cd-ff193d773c36');\n",
       "var x = new MutationObserver(function (mutations, observer) {{\n",
       "        var display = window.getComputedStyle(gd).display;\n",
       "        if (!display || display === 'none') {{\n",
       "            console.log([gd, 'removed!']);\n",
       "            Plotly.purge(gd);\n",
       "            observer.disconnect();\n",
       "        }}\n",
       "}});\n",
       "\n",
       "// Listen for the removal of the full notebook cells\n",
       "var notebookContainer = gd.closest('#notebook-container');\n",
       "if (notebookContainer) {{\n",
       "    x.observe(notebookContainer, {childList: true});\n",
       "}}\n",
       "\n",
       "// Listen for the clearing of the current output cell\n",
       "var outputEl = gd.closest('.output');\n",
       "if (outputEl) {{\n",
       "    x.observe(outputEl, {childList: true});\n",
       "}}\n",
       "\n",
       "                        })                };                });            </script>        </div>"
      ]
     },
     "metadata": {},
     "output_type": "display_data"
    }
   ],
   "source": [
    "import plotly.express as px\n",
    "\n",
    "# Assuming 'show_results' is your DataFrame with Algorithm, Training Score, and Testing Score columns\n",
    "\n",
    "fig = px.bar(show_results, x='Algorithm', y=['training_score', 'testing_score'],\n",
    "             labels={'value': 'R2 Score (%)'},\n",
    "             title='Training and Testing Scores for Different Algorithms',\n",
    "             width=800, height=500)\n",
    "\n",
    "\n",
    "\n",
    "fig.show()\n"
   ]
  },
  {
   "cell_type": "code",
   "execution_count": 291,
   "id": "342c69f0",
   "metadata": {},
   "outputs": [
    {
     "name": "stdout",
     "output_type": "stream",
     "text": [
      "Enter the Company Name: Acer\n",
      "Enter GPU:  2\n",
      "Enter Number of CPU core in Laptop: 5\n",
      "Enter RAM Size of Laptop in GB: 8\n",
      "Enter Storage of SSD in GB: 256\n",
      "\n",
      "Predicted Price using Linear Regression: 511.54\n",
      "\n",
      "Predicted Price using Decision Tree: 1256.00\n",
      "\n",
      "Predicted Price using Random Forest: 1521.26\n",
      "\n",
      "Predicted Price using Gradient Boost: 1463.36\n",
      "\n",
      "Predicted Price using XGBoost: 1587.89\n",
      "\n",
      "Predicted Price using CatBoost: 1426.44\n"
     ]
    }
   ],
   "source": [
    "Manufacturer = input(\"Enter the Company Name: \")\n",
    "GPU = input(\"Enter GPU:  \")\n",
    "CPU_core = input(\"Enter Number of CPU core in Laptop: \")\n",
    "RAM_GB = input(\"Enter RAM Size of Laptop in GB: \")\n",
    "Storage_GB_SSD = input(\"Enter Storage of SSD in GB: \")\n",
    "\n",
    "\n",
    "user_input_data = pd.DataFrame({'Manufacturer':[Manufacturer],'GPU':[GPU],'CPU_core':[CPU_core],\n",
    "                                'RAM_GB':[RAM_GB], 'Storage_GB_SSD':[Storage_GB_SSD ]})\n",
    "\n",
    "# Ensure 'num_columns' are present and in the correct order\n",
    "user_input_data[['GPU','CPU_core', 'RAM_GB', 'Storage_GB_SSD']] = scaler.transform(user_input_data[['GPU','CPU_core', 'RAM_GB', 'Storage_GB_SSD']])\n",
    "\n",
    "\n",
    "# Keep the 'Manufacturer' column in X_input for prediction\n",
    "X_input = pd.get_dummies(user_input_data, columns=['Manufacturer'], dummy_na=False)\n",
    "\n",
    "# Reindex the columns to match the order during training\n",
    "X_input = X_input.reindex(columns=X_train.columns, fill_value=0)\n",
    "\n",
    "# Rest of your code for making predictions using trained_models\n",
    "# Rest of your code for making predictions using trained_models\n",
    "for model_name, model_instance in trained_models.items():\n",
    "    Predicted_Price = model_instance.predict(X_input)\n",
    "    \n",
    "    # Reshape the Predicted_Price array\n",
    "    Predicted_Price_2d = Predicted_Price.reshape(-1, 1)\n",
    "    \n",
    "    print()\n",
    "    print(f'Predicted Price using {model_name}: {Predicted_Price_2d[0][0]:.2f}')\n",
    "\n",
    "\n"
   ]
  },
  {
   "cell_type": "code",
   "execution_count": null,
   "id": "7c9306e8",
   "metadata": {},
   "outputs": [],
   "source": []
  }
 ],
 "metadata": {
  "kernelspec": {
   "display_name": "Python 3 (ipykernel)",
   "language": "python",
   "name": "python3"
  },
  "language_info": {
   "codemirror_mode": {
    "name": "ipython",
    "version": 3
   },
   "file_extension": ".py",
   "mimetype": "text/x-python",
   "name": "python",
   "nbconvert_exporter": "python",
   "pygments_lexer": "ipython3",
   "version": "3.11.5"
  }
 },
 "nbformat": 4,
 "nbformat_minor": 5
}
